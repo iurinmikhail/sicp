{
 "cells": [
  {
   "cell_type": "markdown",
   "metadata": {},
   "source": [
    "Издержки, связанные с введением присваивания"
   ]
  },
  {
   "cell_type": "markdown",
   "metadata": {},
   "source": [
    "При наличии присваивания моделируемый объект начинает обладать внутренним состоянием."
   ]
  },
  {
   "cell_type": "markdown",
   "metadata": {},
   "source": [
    "Функционально программирование - программирование, в котором не используется присваивание"
   ]
  },
  {
   "cell_type": "code",
   "execution_count": 1,
   "metadata": {},
   "outputs": [],
   "source": [
    "def test_make_simplified_withdraw():\n",
    "    w = make_simplified_withdraw(25)\n",
    "    assert w(20) == 5\n",
    "    assert w(10) == -5"
   ]
  },
  {
   "cell_type": "code",
   "execution_count": 2,
   "metadata": {},
   "outputs": [
    {
     "ename": "NameError",
     "evalue": "name 'make_simplified_withdraw' is not defined",
     "output_type": "error",
     "traceback": [
      "\u001b[1;31m---------------------------------------------------------------------------\u001b[0m",
      "\u001b[1;31mNameError\u001b[0m                                 Traceback (most recent call last)",
      "Cell \u001b[1;32mIn[2], line 1\u001b[0m\n\u001b[1;32m----> 1\u001b[0m \u001b[43mtest_make_simplified_withdraw\u001b[49m\u001b[43m(\u001b[49m\u001b[43m)\u001b[49m\n",
      "Cell \u001b[1;32mIn[1], line 2\u001b[0m, in \u001b[0;36mtest_make_simplified_withdraw\u001b[1;34m()\u001b[0m\n\u001b[0;32m      1\u001b[0m \u001b[38;5;28;01mdef\u001b[39;00m \u001b[38;5;21mtest_make_simplified_withdraw\u001b[39m():\n\u001b[1;32m----> 2\u001b[0m     w \u001b[38;5;241m=\u001b[39m \u001b[43mmake_simplified_withdraw\u001b[49m(\u001b[38;5;241m25\u001b[39m)\n\u001b[0;32m      3\u001b[0m     \u001b[38;5;28;01massert\u001b[39;00m w(\u001b[38;5;241m20\u001b[39m) \u001b[38;5;241m==\u001b[39m \u001b[38;5;241m5\u001b[39m\n\u001b[0;32m      4\u001b[0m     \u001b[38;5;28;01massert\u001b[39;00m w(\u001b[38;5;241m10\u001b[39m) \u001b[38;5;241m==\u001b[39m \u001b[38;5;241m-\u001b[39m\u001b[38;5;241m5\u001b[39m\n",
      "\u001b[1;31mNameError\u001b[0m: name 'make_simplified_withdraw' is not defined"
     ]
    }
   ],
   "source": [
    "test_make_simplified_withdraw()"
   ]
  },
  {
   "cell_type": "code",
   "execution_count": 3,
   "metadata": {},
   "outputs": [],
   "source": [
    "def make_simplified_withdraw(balance: float) -> float:\n",
    "    \"\"\"Функция изменения счета с присваиванием.\"\"\"\n",
    "    def helper(amount: float) -> float:\n",
    "        nonlocal balance\n",
    "        balance -= amount\n",
    "        return balance\n",
    "    return helper\n"
   ]
  },
  {
   "cell_type": "code",
   "execution_count": 4,
   "metadata": {},
   "outputs": [],
   "source": [
    "test_make_simplified_withdraw()"
   ]
  },
  {
   "cell_type": "code",
   "execution_count": 9,
   "metadata": {},
   "outputs": [],
   "source": [
    "def test_make_decrementer() -> None:\n",
    "    \"\"\"Тест функции без присваивания.\"\"\"\n",
    "    d = make_decrementer(25)\n",
    "    assert d(20) == 5\n",
    "    assert d(10) == 15"
   ]
  },
  {
   "cell_type": "code",
   "execution_count": 10,
   "metadata": {},
   "outputs": [],
   "source": [
    "test_make_decrementer()"
   ]
  },
  {
   "cell_type": "code",
   "execution_count": 11,
   "metadata": {},
   "outputs": [],
   "source": [
    "def make_decrementer(balance: float) -> float:\n",
    "    \"\"\"Изменение счета без присваивания.\"\"\"\n",
    "    return lambda amount: balance - amount"
   ]
  },
  {
   "cell_type": "code",
   "execution_count": 12,
   "metadata": {},
   "outputs": [],
   "source": [
    "test_make_decrementer()"
   ]
  },
  {
   "cell_type": "markdown",
   "metadata": {},
   "source": [
    "Что значит, две вещь суть `одно и то же`?"
   ]
  },
  {
   "cell_type": "code",
   "execution_count": 13,
   "metadata": {},
   "outputs": [],
   "source": [
    "d1 = make_decrementer(25)\n",
    "d2 = make_decrementer(25)"
   ]
  },
  {
   "cell_type": "markdown",
   "metadata": {},
   "source": [
    "d1 и d2 одно и тот же объект, так как у них одинаковое поведение. В любом выражении можно подставить d1 вместо d2 и результат не изменится."
   ]
  },
  {
   "cell_type": "code",
   "execution_count": 27,
   "metadata": {},
   "outputs": [],
   "source": [
    "d1(5)\n",
    "assert d1(10) is d2(10)\n",
    "assert d1(20) is d2(20)"
   ]
  },
  {
   "cell_type": "code",
   "execution_count": 28,
   "metadata": {},
   "outputs": [],
   "source": [
    "w1 = make_simplified_withdraw(25)\n",
    "w2 = make_simplified_withdraw(25)"
   ]
  },
  {
   "cell_type": "code",
   "execution_count": 29,
   "metadata": {},
   "outputs": [
    {
     "ename": "AssertionError",
     "evalue": "",
     "output_type": "error",
     "traceback": [
      "\u001b[1;31m---------------------------------------------------------------------------\u001b[0m",
      "\u001b[1;31mAssertionError\u001b[0m                            Traceback (most recent call last)",
      "Cell \u001b[1;32mIn[29], line 2\u001b[0m\n\u001b[0;32m      1\u001b[0m w1(\u001b[38;5;241m20\u001b[39m)\n\u001b[1;32m----> 2\u001b[0m \u001b[38;5;28;01massert\u001b[39;00m w1(\u001b[38;5;241m20\u001b[39m) \u001b[38;5;129;01mis\u001b[39;00m w2(\u001b[38;5;241m20\u001b[39m)\n",
      "\u001b[1;31mAssertionError\u001b[0m: "
     ]
    }
   ],
   "source": [
    "w1(20)\n",
    "assert w1(20) is w2(20)"
   ]
  },
  {
   "cell_type": "markdown",
   "metadata": {},
   "source": [
    "Неверно, что в любом выражении можно заменить w1 на w2, не повлияв на результат выражения."
   ]
  },
  {
   "cell_type": "markdown",
   "metadata": {},
   "source": []
  }
 ],
 "metadata": {
  "kernelspec": {
   "display_name": "Python 3",
   "language": "python",
   "name": "python3"
  },
  "language_info": {
   "codemirror_mode": {
    "name": "ipython",
    "version": 3
   },
   "file_extension": ".py",
   "mimetype": "text/x-python",
   "name": "python",
   "nbconvert_exporter": "python",
   "pygments_lexer": "ipython3",
   "version": "3.12.4"
  }
 },
 "nbformat": 4,
 "nbformat_minor": 2
}
