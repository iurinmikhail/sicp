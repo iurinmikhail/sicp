{
 "cells": [
  {
   "cell_type": "code",
   "execution_count": 3,
   "id": "fe1e983c-9d94-47b1-982e-2ef9b8929391",
   "metadata": {},
   "outputs": [
    {
     "name": "stdout",
     "output_type": "stream",
     "text": [
      "x=10, y=20\n"
     ]
    }
   ],
   "source": [
    "point = 10, 20\n",
    "\n",
    "x, y = point\n",
    "x\n",
    "print(f\"{x=}, {y=}\")"
   ]
  },
  {
   "cell_type": "code",
   "execution_count": 4,
   "id": "56b3f1cf-8c9d-40e2-be6d-5f8c39b55303",
   "metadata": {},
   "outputs": [
    {
     "name": "stdout",
     "output_type": "stream",
     "text": [
      "x=10, y=20\n"
     ]
    }
   ],
   "source": [
    "point = {\n",
    "    \"x\": 10,\n",
    "    \"y\": 20,\n",
    "}\n",
    "x = point[\"x\"]\n",
    "y = point[\"y\"]\n",
    "print(f\"{x=}, {y=}\")"
   ]
  },
  {
   "cell_type": "code",
   "execution_count": 5,
   "id": "78e4d563-9f1d-4d72-8fba-70be42af36d4",
   "metadata": {},
   "outputs": [
    {
     "data": {
      "text/plain": [
       "{'x': -10, 'y': 20}"
      ]
     },
     "execution_count": 5,
     "metadata": {},
     "output_type": "execute_result"
    }
   ],
   "source": [
    "point = {\"x\": 10, \"y\": 20}\n",
    "symmetric_point = {\n",
    "    \"x\": - point[\"x\"],\n",
    "    \"y\": point[\"y\"],\n",
    "}\n",
    "symmetric_point"
   ]
  },
  {
   "cell_type": "markdown",
   "id": "a5de4e54-f76d-4f34-b0fc-efed61b765c2",
   "metadata": {},
   "source": [
    "При использовании точки всегда придется задумываться о ней. О ее структуре. А хотелось бы избежать этого. Как?"
   ]
  },
  {
   "cell_type": "markdown",
   "id": "03191a1d-8d89-43b2-9d37-c3c69ce59157",
   "metadata": {},
   "source": [
    "Добавить уровень абстракции и работать не с конкретной реализацией точки, как две координаты. А с самими понятием точка."
   ]
  },
  {
   "cell_type": "markdown",
   "id": "11d77180-dab8-447c-9e85-b794b954f22d",
   "metadata": {},
   "source": [
    "Для этого помогут конструктор и селектор"
   ]
  },
  {
   "cell_type": "code",
   "execution_count": 8,
   "id": "59892911-eacc-4cf3-a553-7a9ca8702ab3",
   "metadata": {},
   "outputs": [],
   "source": [
    "def make_point(x: int, y: int) -> dict[str, int]:\n",
    "    return {\"x\": x, \"y\": y}\n",
    "\n",
    "def get_x(point: dict[str, int]):\n",
    "    return point[\"x\"]\n",
    "\n",
    "def get_y(point: dict[str, int]):\n",
    "    return point[\"y\"]"
   ]
  },
  {
   "cell_type": "code",
   "execution_count": 10,
   "id": "bde36d67-db70-4746-b0bc-ab647d78baa3",
   "metadata": {},
   "outputs": [
    {
     "name": "stdout",
     "output_type": "stream",
     "text": [
      "get_x(point)=1, get_y(point)=2\n"
     ]
    }
   ],
   "source": [
    "point = make_point(1, 2)\n",
    "print(f\"{get_x(point)=}, {get_y(point)=}\")"
   ]
  },
  {
   "cell_type": "code",
   "execution_count": 12,
   "id": "8f050890-f500-4ee3-bad3-2bd3d6dd1777",
   "metadata": {},
   "outputs": [
    {
     "data": {
      "text/plain": [
       "{'x': -1, 'y': 1}"
      ]
     },
     "execution_count": 12,
     "metadata": {},
     "output_type": "execute_result"
    }
   ],
   "source": [
    "symmetric_point = make_point(-get_x(point), get_x(point))\n",
    "symmetric_point"
   ]
  },
  {
   "cell_type": "code",
   "execution_count": 14,
   "id": "083e31a2-6c42-45c5-9c4f-cc91534bafda",
   "metadata": {},
   "outputs": [
    {
     "data": {
      "text/plain": [
       "{'angle': 1.1071487177940904, 'radius': 22.360679774997898}"
      ]
     },
     "execution_count": 14,
     "metadata": {},
     "output_type": "execute_result"
    }
   ],
   "source": [
    "import math\n",
    "\n",
    "def make_point(x, y):\n",
    "    return {\n",
    "        \"angle\": math.atan2(y, x),\n",
    "        \"radius\": math.sqrt(x ** 2 + y ** 2)\n",
    "    }\n",
    "\n",
    "make_point(10, 20)"
   ]
  },
  {
   "cell_type": "code",
   "execution_count": null,
   "id": "b551dca2-e939-482b-a389-9e5375dbe532",
   "metadata": {},
   "outputs": [],
   "source": []
  },
  {
   "cell_type": "code",
   "execution_count": null,
   "id": "b5b51b6a-8117-4c40-8674-dcdc14a84020",
   "metadata": {},
   "outputs": [],
   "source": []
  },
  {
   "cell_type": "code",
   "execution_count": null,
   "id": "655e08ef-4f4b-442b-b919-90c8f036dc7e",
   "metadata": {},
   "outputs": [],
   "source": []
  },
  {
   "cell_type": "code",
   "execution_count": null,
   "id": "0279fc48-1810-4110-8db5-c2fba9175ac8",
   "metadata": {},
   "outputs": [],
   "source": []
  },
  {
   "cell_type": "code",
   "execution_count": null,
   "id": "903182f6-f965-4480-9012-9a2fa3d1ae99",
   "metadata": {},
   "outputs": [],
   "source": []
  },
  {
   "cell_type": "code",
   "execution_count": null,
   "id": "60276122-2dc8-4499-9ce9-8fa58ff2b2ab",
   "metadata": {},
   "outputs": [],
   "source": []
  },
  {
   "cell_type": "code",
   "execution_count": null,
   "id": "b0eda058-d653-4683-953e-62467f7d7323",
   "metadata": {},
   "outputs": [],
   "source": []
  },
  {
   "cell_type": "code",
   "execution_count": null,
   "id": "02e675c9-2b8f-4592-93a7-7216e5c66454",
   "metadata": {},
   "outputs": [],
   "source": []
  },
  {
   "cell_type": "code",
   "execution_count": null,
   "id": "0c92bf84-4d7e-4fc5-8666-9d8c2f18aedd",
   "metadata": {},
   "outputs": [],
   "source": []
  },
  {
   "cell_type": "code",
   "execution_count": null,
   "id": "88be108f-936c-489a-a3a3-f8b071cd8d6a",
   "metadata": {},
   "outputs": [],
   "source": []
  }
 ],
 "metadata": {
  "kernelspec": {
   "display_name": "Python 3 (ipykernel)",
   "language": "python",
   "name": "python3"
  },
  "language_info": {
   "codemirror_mode": {
    "name": "ipython",
    "version": 3
   },
   "file_extension": ".py",
   "mimetype": "text/x-python",
   "name": "python",
   "nbconvert_exporter": "python",
   "pygments_lexer": "ipython3",
   "version": "3.12.4"
  }
 },
 "nbformat": 4,
 "nbformat_minor": 5
}
