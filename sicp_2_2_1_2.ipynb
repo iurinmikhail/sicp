{
 "cells": [
  {
   "cell_type": "markdown",
   "metadata": {},
   "source": [
    "map. Применить функцию к каждому элементу списка"
   ]
  },
  {
   "cell_type": "code",
   "execution_count": 1,
   "metadata": {},
   "outputs": [],
   "source": [
    "def test_scale_list():\n",
    "    items = list_([1, 2, 3, 4])\n",
    "    expected = list_([10, 20, 30, 40])\n",
    "    factor = 10\n",
    "    assert scale_list(items, factor) == expected"
   ]
  },
  {
   "cell_type": "code",
   "execution_count": 2,
   "metadata": {},
   "outputs": [
    {
     "ename": "NameError",
     "evalue": "name 'list_' is not defined",
     "output_type": "error",
     "traceback": [
      "\u001b[1;31m---------------------------------------------------------------------------\u001b[0m",
      "\u001b[1;31mNameError\u001b[0m                                 Traceback (most recent call last)",
      "Cell \u001b[1;32mIn[2], line 1\u001b[0m\n\u001b[1;32m----> 1\u001b[0m \u001b[43mtest_scale_list\u001b[49m\u001b[43m(\u001b[49m\u001b[43m)\u001b[49m\n",
      "Cell \u001b[1;32mIn[1], line 2\u001b[0m, in \u001b[0;36mtest_scale_list\u001b[1;34m()\u001b[0m\n\u001b[0;32m      1\u001b[0m \u001b[38;5;28;01mdef\u001b[39;00m \u001b[38;5;21mtest_scale_list\u001b[39m():\n\u001b[1;32m----> 2\u001b[0m     items \u001b[38;5;241m=\u001b[39m \u001b[43mlist_\u001b[49m([\u001b[38;5;241m1\u001b[39m, \u001b[38;5;241m2\u001b[39m, \u001b[38;5;241m3\u001b[39m, \u001b[38;5;241m4\u001b[39m])\n\u001b[0;32m      3\u001b[0m     expected \u001b[38;5;241m=\u001b[39m list_([\u001b[38;5;241m10\u001b[39m, \u001b[38;5;241m20\u001b[39m, \u001b[38;5;241m30\u001b[39m, \u001b[38;5;241m40\u001b[39m])\n\u001b[0;32m      4\u001b[0m     factor \u001b[38;5;241m=\u001b[39m \u001b[38;5;241m10\u001b[39m\n",
      "\u001b[1;31mNameError\u001b[0m: name 'list_' is not defined"
     ]
    }
   ],
   "source": [
    "test_scale_list()"
   ]
  },
  {
   "cell_type": "code",
   "execution_count": 19,
   "metadata": {},
   "outputs": [],
   "source": [
    "from typing import TypeVar, Sequence\n",
    "\n",
    "\n",
    "Cons = TypeVar(\"Cons\")\n",
    "ListCons = TypeVar(\"ListCons\")\n",
    "type Numer = int\n",
    "type DenomEnd = Cons | None\n",
    "type Denom = int\n",
    "\n",
    "\n",
    "\n",
    "def cons(n: int, d: Denom) -> Cons:\n",
    "    \"\"\"Конструктор для создания пары\"\"\"\n",
    "    def dispatch(m):\n",
    "        return n if m == 0 else d\n",
    "    return dispatch\n",
    "\n",
    "def car(x: Cons) -> int:\n",
    "    \"\"\"Получить числитель\"\"\"\n",
    "    return x(0)\n",
    "\n",
    "\n",
    "def cdr(x: Cons) -> Denom | DenomEnd:\n",
    "    \"\"\"Получить знаменатель\"\"\"\n",
    "    return x(1)\n",
    "\n",
    "\n",
    "def list_(l: Sequence[int]) -> Cons:\n",
    "    \"\"\"Создает список пар\"\"\"\n",
    "    if not l:\n",
    "        return None\n",
    "    return cons(l[0], list_(l[1:]))\n",
    "\n",
    "def is_none(items: Cons) -> bool:\n",
    "    return cdr(items) is None\n",
    "\n",
    "\n",
    "def is_equal(items1: Cons, items2: Cons) -> bool:\n",
    "    if car(items1) == car(items2):\n",
    "        return True\n",
    "    if is_none(items1) or is_none(items2):\n",
    "        return False\n",
    "    return is_equal(cdr(items1), cdr(items2))"
   ]
  },
  {
   "cell_type": "code",
   "execution_count": 32,
   "metadata": {},
   "outputs": [],
   "source": [
    "def scale_list(items: Cons, factor: int) -> Cons:\n",
    "    \"\"\"Какая мысль выражена в этой функции. Если в паре есть значения, то создай новую пару,\n",
    "    так чтобы к каждому значению умножалось значение factor и верни обновленный список пар.\"\"\"\n",
    "    if is_none(items):\n",
    "        return None\n",
    "    return cons(car(items) * factor,\n",
    "                scale_list(cdr(items), factor)\n",
    "                )"
   ]
  },
  {
   "cell_type": "code",
   "execution_count": 33,
   "metadata": {},
   "outputs": [],
   "source": [
    "test_scale_list()"
   ]
  },
  {
   "cell_type": "code",
   "execution_count": 34,
   "metadata": {},
   "outputs": [],
   "source": [
    "def test_scale_list():\n",
    "    items = list_([1, 2, 3, 4])\n",
    "    expected = list_([10, 20, 30, 40])\n",
    "    factor = 10\n",
    "    result = scale_list(items, factor)\n",
    "    assert is_equal(result, expected)"
   ]
  },
  {
   "cell_type": "code",
   "execution_count": 35,
   "metadata": {},
   "outputs": [],
   "source": [
    "test_scale_list()"
   ]
  },
  {
   "cell_type": "markdown",
   "metadata": {},
   "source": [
    "Добавим функцию высшего порядка для применения к каждому элементу списка пар функцию и вывода результатов"
   ]
  },
  {
   "cell_type": "code",
   "execution_count": 36,
   "metadata": {},
   "outputs": [],
   "source": [
    "def test_map_():\n",
    "    items = list_([1, 2, 3, 4])\n",
    "    expected = list_([10, 20, 30, 40])\n",
    "    func = lambda x: x * 10\n",
    "    result = map_(func, items)\n",
    "    assert is_equal(result, expected)"
   ]
  },
  {
   "cell_type": "code",
   "execution_count": 37,
   "metadata": {},
   "outputs": [],
   "source": [
    "test_map_()"
   ]
  },
  {
   "cell_type": "code",
   "execution_count": 38,
   "metadata": {},
   "outputs": [],
   "source": [
    "from typing import Callable\n",
    "\n",
    "\n",
    "def map_(func: Callable, items: Cons) -> Cons:\n",
    "    ..."
   ]
  },
  {
   "cell_type": "code",
   "execution_count": 39,
   "metadata": {},
   "outputs": [
    {
     "ename": "TypeError",
     "evalue": "'NoneType' object is not callable",
     "output_type": "error",
     "traceback": [
      "\u001b[1;31m---------------------------------------------------------------------------\u001b[0m",
      "\u001b[1;31mTypeError\u001b[0m                                 Traceback (most recent call last)",
      "Cell \u001b[1;32mIn[39], line 1\u001b[0m\n\u001b[1;32m----> 1\u001b[0m \u001b[43mtest_map_\u001b[49m\u001b[43m(\u001b[49m\u001b[43m)\u001b[49m\n",
      "Cell \u001b[1;32mIn[36], line 6\u001b[0m, in \u001b[0;36mtest_map_\u001b[1;34m()\u001b[0m\n\u001b[0;32m      4\u001b[0m func \u001b[38;5;241m=\u001b[39m \u001b[38;5;28;01mlambda\u001b[39;00m x: x \u001b[38;5;241m*\u001b[39m \u001b[38;5;241m10\u001b[39m\n\u001b[0;32m      5\u001b[0m result \u001b[38;5;241m=\u001b[39m map_(func, items)\n\u001b[1;32m----> 6\u001b[0m \u001b[38;5;28;01massert\u001b[39;00m \u001b[43mis_equal\u001b[49m\u001b[43m(\u001b[49m\u001b[43mresult\u001b[49m\u001b[43m,\u001b[49m\u001b[43m \u001b[49m\u001b[43mexpected\u001b[49m\u001b[43m)\u001b[49m\n",
      "Cell \u001b[1;32mIn[19], line 36\u001b[0m, in \u001b[0;36mis_equal\u001b[1;34m(items1, items2)\u001b[0m\n\u001b[0;32m     35\u001b[0m \u001b[38;5;28;01mdef\u001b[39;00m \u001b[38;5;21mis_equal\u001b[39m(items1: Cons, items2: Cons) \u001b[38;5;241m-\u001b[39m\u001b[38;5;241m>\u001b[39m \u001b[38;5;28mbool\u001b[39m:\n\u001b[1;32m---> 36\u001b[0m     \u001b[38;5;28;01mif\u001b[39;00m \u001b[43mcar\u001b[49m\u001b[43m(\u001b[49m\u001b[43mitems1\u001b[49m\u001b[43m)\u001b[49m \u001b[38;5;241m==\u001b[39m car(items2):\n\u001b[0;32m     37\u001b[0m         \u001b[38;5;28;01mreturn\u001b[39;00m \u001b[38;5;28;01mTrue\u001b[39;00m\n\u001b[0;32m     38\u001b[0m     \u001b[38;5;28;01mif\u001b[39;00m is_none(items1) \u001b[38;5;129;01mor\u001b[39;00m is_none(items2):\n",
      "Cell \u001b[1;32mIn[19], line 17\u001b[0m, in \u001b[0;36mcar\u001b[1;34m(x)\u001b[0m\n\u001b[0;32m     15\u001b[0m \u001b[38;5;28;01mdef\u001b[39;00m \u001b[38;5;21mcar\u001b[39m(x: Cons) \u001b[38;5;241m-\u001b[39m\u001b[38;5;241m>\u001b[39m \u001b[38;5;28mint\u001b[39m:\n\u001b[0;32m     16\u001b[0m \u001b[38;5;250m    \u001b[39m\u001b[38;5;124;03m\"\"\"Получить числитель\"\"\"\u001b[39;00m\n\u001b[1;32m---> 17\u001b[0m     \u001b[38;5;28;01mreturn\u001b[39;00m \u001b[43mx\u001b[49m\u001b[43m(\u001b[49m\u001b[38;5;241;43m0\u001b[39;49m\u001b[43m)\u001b[49m\n",
      "\u001b[1;31mTypeError\u001b[0m: 'NoneType' object is not callable"
     ]
    }
   ],
   "source": [
    "test_map_()"
   ]
  },
  {
   "cell_type": "code",
   "execution_count": 40,
   "metadata": {},
   "outputs": [],
   "source": [
    "from typing import Callable\n",
    "\n",
    "\n",
    "def map_(func: Callable, items: Cons) -> Cons:\n",
    "    if is_none(items):\n",
    "        return None\n",
    "    return cons(func(car(items)), map_(func, cdr(items)))"
   ]
  },
  {
   "cell_type": "code",
   "execution_count": 41,
   "metadata": {},
   "outputs": [],
   "source": [
    "test_map_()"
   ]
  },
  {
   "cell_type": "markdown",
   "metadata": {},
   "source": [
    "Создал функцию высшего порядка, которая создает еще один барьер абстракции. Этот барьер отделяет детали реализации от использования этой функции. Можно мыслить уже в других терминах и не вдаваться в подробности."
   ]
  },
  {
   "cell_type": "code",
   "execution_count": 42,
   "metadata": {},
   "outputs": [],
   "source": [
    "def scale_list(items: Cons, factor: int) -> Cons:\n",
    "    \"\"\"Какая выражен здесь моя мысль. Примени к каждому значенияю функию lambda x: x * factor и выведи получившийся\n",
    "    список пар\"\"\"\n",
    "    return map_(lambda x: x * factor, items)"
   ]
  },
  {
   "cell_type": "code",
   "execution_count": 31,
   "metadata": {},
   "outputs": [],
   "source": [
    "test_scale_list()"
   ]
  },
  {
   "cell_type": "markdown",
   "metadata": {},
   "source": [
    "Типы. Как описать пару с помощью типов?\n",
    "Сперва элементарные типы запишу\n"
   ]
  },
  {
   "cell_type": "code",
   "execution_count": null,
   "metadata": {},
   "outputs": [],
   "source": []
  }
 ],
 "metadata": {
  "kernelspec": {
   "display_name": "Python 3",
   "language": "python",
   "name": "python3"
  },
  "language_info": {
   "codemirror_mode": {
    "name": "ipython",
    "version": 3
   },
   "file_extension": ".py",
   "mimetype": "text/x-python",
   "name": "python",
   "nbconvert_exporter": "python",
   "pygments_lexer": "ipython3",
   "version": "3.12.4"
  }
 },
 "nbformat": 4,
 "nbformat_minor": 2
}
