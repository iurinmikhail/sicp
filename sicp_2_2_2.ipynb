{
 "cells": [
  {
   "cell_type": "markdown",
   "metadata": {},
   "source": [
    "Иерархические структуры"
   ]
  },
  {
   "cell_type": "code",
   "execution_count": 1,
   "metadata": {},
   "outputs": [
    {
     "data": {
      "text/plain": [
       "<function pair.cons.<locals>.rat(t: _types.TypeSelectorEnum) -> Numer | Denom>"
      ]
     },
     "execution_count": 1,
     "metadata": {},
     "output_type": "execute_result"
    }
   ],
   "source": [
    "from pair import cons, list_\n",
    "\n",
    "cons(list_([1, 2]), list_([3, 4]))"
   ]
  },
  {
   "cell_type": "markdown",
   "metadata": {},
   "source": [
    "Необходимо написать функцию is_pair(x) Которая будет определять, является x парой или нет."
   ]
  },
  {
   "cell_type": "code",
   "execution_count": 2,
   "metadata": {},
   "outputs": [],
   "source": [
    "def test_is_pair():\n",
    "    elements_to_expected = (\n",
    "        (cons(1, 2), True),\n",
    "        (1, False),\n",
    "        (cons(cons(1, None), cons(2, None)), True),\n",
    "        (None, False),\n",
    "    )\n",
    "    for elem, exp in elements_to_expected:\n",
    "        assert is_pair(elem) == exp"
   ]
  },
  {
   "cell_type": "code",
   "execution_count": 3,
   "metadata": {},
   "outputs": [
    {
     "ename": "NameError",
     "evalue": "name 'is_pair' is not defined",
     "output_type": "error",
     "traceback": [
      "\u001b[1;31m---------------------------------------------------------------------------\u001b[0m",
      "\u001b[1;31mNameError\u001b[0m                                 Traceback (most recent call last)",
      "Cell \u001b[1;32mIn[3], line 1\u001b[0m\n\u001b[1;32m----> 1\u001b[0m \u001b[43mtest_is_pair\u001b[49m\u001b[43m(\u001b[49m\u001b[43m)\u001b[49m\n",
      "Cell \u001b[1;32mIn[2], line 9\u001b[0m, in \u001b[0;36mtest_is_pair\u001b[1;34m()\u001b[0m\n\u001b[0;32m      2\u001b[0m elements_to_expected \u001b[38;5;241m=\u001b[39m (\n\u001b[0;32m      3\u001b[0m     (cons(\u001b[38;5;241m1\u001b[39m, \u001b[38;5;241m2\u001b[39m), \u001b[38;5;28;01mTrue\u001b[39;00m),\n\u001b[0;32m      4\u001b[0m     (\u001b[38;5;241m1\u001b[39m, \u001b[38;5;28;01mFalse\u001b[39;00m),\n\u001b[0;32m      5\u001b[0m     (cons(cons(\u001b[38;5;241m1\u001b[39m, \u001b[38;5;28;01mNone\u001b[39;00m), cons(\u001b[38;5;241m2\u001b[39m, \u001b[38;5;28;01mNone\u001b[39;00m)), \u001b[38;5;28;01mTrue\u001b[39;00m),\n\u001b[0;32m      6\u001b[0m     (\u001b[38;5;28;01mNone\u001b[39;00m, \u001b[38;5;28;01mFalse\u001b[39;00m),\n\u001b[0;32m      7\u001b[0m )\n\u001b[0;32m      8\u001b[0m \u001b[38;5;28;01mfor\u001b[39;00m elem, exp \u001b[38;5;129;01min\u001b[39;00m elements_to_expected:\n\u001b[1;32m----> 9\u001b[0m     \u001b[38;5;28;01massert\u001b[39;00m \u001b[43mis_pair\u001b[49m(elem) \u001b[38;5;241m==\u001b[39m exp\n",
      "\u001b[1;31mNameError\u001b[0m: name 'is_pair' is not defined"
     ]
    }
   ],
   "source": [
    "test_is_pair()"
   ]
  },
  {
   "cell_type": "code",
   "execution_count": 9,
   "metadata": {},
   "outputs": [],
   "source": [
    "from _types import ListPair, Pair\n",
    "\n",
    "def is_pair(x: None | int | ListPair | Pair) -> bool:\n",
    "    return callable(x)"
   ]
  },
  {
   "cell_type": "code",
   "execution_count": 4,
   "metadata": {},
   "outputs": [
    {
     "ename": "NameError",
     "evalue": "name 'is_pair' is not defined",
     "output_type": "error",
     "traceback": [
      "\u001b[1;31m---------------------------------------------------------------------------\u001b[0m",
      "\u001b[1;31mNameError\u001b[0m                                 Traceback (most recent call last)",
      "Cell \u001b[1;32mIn[4], line 1\u001b[0m\n\u001b[1;32m----> 1\u001b[0m \u001b[43mtest_is_pair\u001b[49m\u001b[43m(\u001b[49m\u001b[43m)\u001b[49m\n",
      "Cell \u001b[1;32mIn[2], line 9\u001b[0m, in \u001b[0;36mtest_is_pair\u001b[1;34m()\u001b[0m\n\u001b[0;32m      2\u001b[0m elements_to_expected \u001b[38;5;241m=\u001b[39m (\n\u001b[0;32m      3\u001b[0m     (cons(\u001b[38;5;241m1\u001b[39m, \u001b[38;5;241m2\u001b[39m), \u001b[38;5;28;01mTrue\u001b[39;00m),\n\u001b[0;32m      4\u001b[0m     (\u001b[38;5;241m1\u001b[39m, \u001b[38;5;28;01mFalse\u001b[39;00m),\n\u001b[0;32m      5\u001b[0m     (cons(cons(\u001b[38;5;241m1\u001b[39m, \u001b[38;5;28;01mNone\u001b[39;00m), cons(\u001b[38;5;241m2\u001b[39m, \u001b[38;5;28;01mNone\u001b[39;00m)), \u001b[38;5;28;01mTrue\u001b[39;00m),\n\u001b[0;32m      6\u001b[0m     (\u001b[38;5;28;01mNone\u001b[39;00m, \u001b[38;5;28;01mFalse\u001b[39;00m),\n\u001b[0;32m      7\u001b[0m )\n\u001b[0;32m      8\u001b[0m \u001b[38;5;28;01mfor\u001b[39;00m elem, exp \u001b[38;5;129;01min\u001b[39;00m elements_to_expected:\n\u001b[1;32m----> 9\u001b[0m     \u001b[38;5;28;01massert\u001b[39;00m \u001b[43mis_pair\u001b[49m(elem) \u001b[38;5;241m==\u001b[39m exp\n",
      "\u001b[1;31mNameError\u001b[0m: name 'is_pair' is not defined"
     ]
    }
   ],
   "source": [
    "test_is_pair()"
   ]
  },
  {
   "cell_type": "code",
   "execution_count": 5,
   "metadata": {},
   "outputs": [],
   "source": [
    "x = cons(list_([1, 2]), list_([3, 4]))"
   ]
  },
  {
   "cell_type": "code",
   "execution_count": 6,
   "metadata": {},
   "outputs": [
    {
     "data": {
      "text/plain": [
       "3"
      ]
     },
     "execution_count": 6,
     "metadata": {},
     "output_type": "execute_result"
    }
   ],
   "source": [
    "from pair import len_\n",
    "\n",
    "len_(x)"
   ]
  },
  {
   "cell_type": "code",
   "execution_count": 7,
   "metadata": {},
   "outputs": [],
   "source": [
    "\n",
    "def test_count_leaves():\n",
    "    x = cons(list_([1, 2]), list_([3, 4]))\n",
    "    assert count_leaves(x) == 4"
   ]
  },
  {
   "cell_type": "code",
   "execution_count": 8,
   "metadata": {},
   "outputs": [
    {
     "ename": "NameError",
     "evalue": "name 'count_leaves' is not defined",
     "output_type": "error",
     "traceback": [
      "\u001b[1;31m---------------------------------------------------------------------------\u001b[0m",
      "\u001b[1;31mNameError\u001b[0m                                 Traceback (most recent call last)",
      "Cell \u001b[1;32mIn[8], line 1\u001b[0m\n\u001b[1;32m----> 1\u001b[0m \u001b[43mtest_count_leaves\u001b[49m\u001b[43m(\u001b[49m\u001b[43m)\u001b[49m\n",
      "Cell \u001b[1;32mIn[7], line 3\u001b[0m, in \u001b[0;36mtest_count_leaves\u001b[1;34m()\u001b[0m\n\u001b[0;32m      1\u001b[0m \u001b[38;5;28;01mdef\u001b[39;00m \u001b[38;5;21mtest_count_leaves\u001b[39m():\n\u001b[0;32m      2\u001b[0m     x \u001b[38;5;241m=\u001b[39m cons(list_([\u001b[38;5;241m1\u001b[39m, \u001b[38;5;241m2\u001b[39m]), list_([\u001b[38;5;241m3\u001b[39m, \u001b[38;5;241m4\u001b[39m]))\n\u001b[1;32m----> 3\u001b[0m     \u001b[38;5;28;01massert\u001b[39;00m \u001b[43mcount_leaves\u001b[49m(x) \u001b[38;5;241m==\u001b[39m \u001b[38;5;241m4\u001b[39m\n",
      "\u001b[1;31mNameError\u001b[0m: name 'count_leaves' is not defined"
     ]
    }
   ],
   "source": [
    "test_count_leaves()"
   ]
  },
  {
   "cell_type": "code",
   "execution_count": 15,
   "metadata": {},
   "outputs": [],
   "source": [
    "from pair import is_pair_end, is_pair, car, cdr\n",
    "\n",
    "def is_none(x):\n",
    "    return x is None\n",
    "\n",
    "def count_leaves(x):\n",
    "    if is_none(x):\n",
    "        return 0\n",
    "    elif not is_pair(x):\n",
    "        return 1\n",
    "\n",
    "    return count_leaves(car(x)) + count_leaves(cdr(x))"
   ]
  },
  {
   "cell_type": "code",
   "execution_count": 16,
   "metadata": {},
   "outputs": [],
   "source": [
    "test_count_leaves()"
   ]
  },
  {
   "cell_type": "code",
   "execution_count": null,
   "metadata": {},
   "outputs": [],
   "source": []
  }
 ],
 "metadata": {
  "kernelspec": {
   "display_name": "Python 3",
   "language": "python",
   "name": "python3"
  },
  "language_info": {
   "codemirror_mode": {
    "name": "ipython",
    "version": 3
   },
   "file_extension": ".py",
   "mimetype": "text/x-python",
   "name": "python",
   "nbconvert_exporter": "python",
   "pygments_lexer": "ipython3",
   "version": "3.12.4"
  }
 },
 "nbformat": 4,
 "nbformat_minor": 2
}
