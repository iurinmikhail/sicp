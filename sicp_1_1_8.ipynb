{
 "cells": [
  {
   "cell_type": "markdown",
   "metadata": {},
   "source": [
    "Процедуры как абстракции типа черный ящик"
   ]
  },
  {
   "cell_type": "markdown",
   "metadata": {},
   "source": [
    "Внутренние определения и блочная структура"
   ]
  },
  {
   "cell_type": "code",
   "execution_count": 6,
   "metadata": {},
   "outputs": [],
   "source": [
    "\n",
    "\n",
    "def sqrt(x):\n",
    "    def square(x):\n",
    "        return x * x\n",
    "\n",
    "\n",
    "    def abs_(x):\n",
    "        if x < 0:\n",
    "            return -x\n",
    "        return x\n",
    "\n",
    "\n",
    "    def is_good_enough(guess, x):\n",
    "        return abs_(square(guess) -x) < 0.001\n",
    "\n",
    "\n",
    "    def average(x, y):\n",
    "        return (x + y) / 2\n",
    "\n",
    "    def improve(guess, x):\n",
    "        return average(guess, x / guess)\n",
    "\n",
    "\n",
    "    def sqrt_iter(guess, x):\n",
    "        if is_good_enough(guess, x):\n",
    "            return guess\n",
    "        return sqrt_iter(improve(guess, x), x)\n",
    "    return sqrt_iter(1.0, x)"
   ]
  },
  {
   "cell_type": "code",
   "execution_count": 7,
   "metadata": {},
   "outputs": [
    {
     "data": {
      "text/plain": [
       "3.00009155413138"
      ]
     },
     "execution_count": 7,
     "metadata": {},
     "output_type": "execute_result"
    }
   ],
   "source": [
    "sqrt(9)"
   ]
  },
  {
   "cell_type": "markdown",
   "metadata": {},
   "source": [
    "Сделаем x свободной переменной"
   ]
  },
  {
   "cell_type": "code",
   "execution_count": 8,
   "metadata": {},
   "outputs": [],
   "source": [
    "def square(x):\n",
    "    return x * x\n",
    "\n",
    "\n",
    "def abs_(x):\n",
    "    if x < 0:\n",
    "        return -x\n",
    "    return x\n",
    "\n",
    "\n",
    "\n",
    "def average(x, y):\n",
    "    return (x + y) / 2\n",
    "\n",
    "\n",
    "def sqrt(x):\n",
    "    def is_good_enough(guess):\n",
    "        return abs_(square(guess) -x) < 0.001\n",
    "\n",
    "    def improve(guess):\n",
    "        return average(guess, x / guess)\n",
    "\n",
    "\n",
    "    def sqrt_iter(guess):\n",
    "        if is_good_enough(guess):\n",
    "            return guess\n",
    "        return sqrt_iter(improve(guess))\n",
    "\n",
    "    return sqrt_iter(1.0)"
   ]
  },
  {
   "cell_type": "code",
   "execution_count": 9,
   "metadata": {},
   "outputs": [
    {
     "data": {
      "text/plain": [
       "3.00009155413138"
      ]
     },
     "execution_count": 9,
     "metadata": {},
     "output_type": "execute_result"
    }
   ],
   "source": [
    "sqrt(9)"
   ]
  },
  {
   "cell_type": "code",
   "execution_count": null,
   "metadata": {},
   "outputs": [],
   "source": []
  }
 ],
 "metadata": {
  "kernelspec": {
   "display_name": "Python 3",
   "language": "python",
   "name": "python3"
  },
  "language_info": {
   "codemirror_mode": {
    "name": "ipython",
    "version": 3
   },
   "file_extension": ".py",
   "mimetype": "text/x-python",
   "name": "python",
   "nbconvert_exporter": "python",
   "pygments_lexer": "ipython3",
   "version": "3.12.4"
  }
 },
 "nbformat": 4,
 "nbformat_minor": 2
}
