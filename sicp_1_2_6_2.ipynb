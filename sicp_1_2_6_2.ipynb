{
 "cells": [
  {
   "cell_type": "markdown",
   "metadata": {},
   "source": [
    "Теорема Ферма\n"
   ]
  },
  {
   "cell_type": "code",
   "execution_count": 12,
   "metadata": {},
   "outputs": [],
   "source": [
    "def test_is_fast_prime():\n",
    "    primes = ((2, True), (3, True), (4, False), (5, True), (6, False), (7, True), (8, False), (9, False), (10, False), (11, True))\n",
    "    for i in primes:\n",
    "        assert is_fast_prime(i[0], 2) is i[1]\n"
   ]
  },
  {
   "cell_type": "code",
   "execution_count": 13,
   "metadata": {},
   "outputs": [
    {
     "ename": "NameError",
     "evalue": "name 'fermat_test' is not defined",
     "output_type": "error",
     "traceback": [
      "\u001b[1;31m---------------------------------------------------------------------------\u001b[0m",
      "\u001b[1;31mNameError\u001b[0m                                 Traceback (most recent call last)",
      "Cell \u001b[1;32mIn[13], line 1\u001b[0m\n\u001b[1;32m----> 1\u001b[0m \u001b[43mtest_is_fast_prime\u001b[49m\u001b[43m(\u001b[49m\u001b[43m)\u001b[49m\n",
      "Cell \u001b[1;32mIn[12], line 4\u001b[0m, in \u001b[0;36mtest_is_fast_prime\u001b[1;34m()\u001b[0m\n\u001b[0;32m      2\u001b[0m primes \u001b[38;5;241m=\u001b[39m ((\u001b[38;5;241m2\u001b[39m, \u001b[38;5;28;01mTrue\u001b[39;00m), (\u001b[38;5;241m3\u001b[39m, \u001b[38;5;28;01mTrue\u001b[39;00m), (\u001b[38;5;241m4\u001b[39m, \u001b[38;5;28;01mFalse\u001b[39;00m), (\u001b[38;5;241m5\u001b[39m, \u001b[38;5;28;01mTrue\u001b[39;00m), (\u001b[38;5;241m6\u001b[39m, \u001b[38;5;28;01mFalse\u001b[39;00m), (\u001b[38;5;241m7\u001b[39m, \u001b[38;5;28;01mTrue\u001b[39;00m), (\u001b[38;5;241m8\u001b[39m, \u001b[38;5;28;01mFalse\u001b[39;00m), (\u001b[38;5;241m9\u001b[39m, \u001b[38;5;28;01mFalse\u001b[39;00m), (\u001b[38;5;241m10\u001b[39m, \u001b[38;5;28;01mFalse\u001b[39;00m), (\u001b[38;5;241m11\u001b[39m, \u001b[38;5;28;01mTrue\u001b[39;00m))\n\u001b[0;32m      3\u001b[0m \u001b[38;5;28;01mfor\u001b[39;00m i \u001b[38;5;129;01min\u001b[39;00m primes:\n\u001b[1;32m----> 4\u001b[0m     \u001b[38;5;28;01massert\u001b[39;00m \u001b[43mis_fast_prime\u001b[49m\u001b[43m(\u001b[49m\u001b[43mi\u001b[49m\u001b[43m[\u001b[49m\u001b[38;5;241;43m0\u001b[39;49m\u001b[43m]\u001b[49m\u001b[43m,\u001b[49m\u001b[43m \u001b[49m\u001b[38;5;241;43m2\u001b[39;49m\u001b[43m)\u001b[49m \u001b[38;5;129;01mis\u001b[39;00m i[\u001b[38;5;241m1\u001b[39m]\n",
      "Cell \u001b[1;32mIn[8], line 4\u001b[0m, in \u001b[0;36mis_fast_prime\u001b[1;34m(n, times)\u001b[0m\n\u001b[0;32m      2\u001b[0m \u001b[38;5;28;01mif\u001b[39;00m times \u001b[38;5;241m==\u001b[39m \u001b[38;5;241m0\u001b[39m:\n\u001b[0;32m      3\u001b[0m     \u001b[38;5;28;01mreturn\u001b[39;00m \u001b[38;5;28;01mTrue\u001b[39;00m\n\u001b[1;32m----> 4\u001b[0m \u001b[38;5;28;01mif\u001b[39;00m \u001b[43mfermat_test\u001b[49m(n):\n\u001b[0;32m      5\u001b[0m     \u001b[38;5;28;01mreturn\u001b[39;00m is_fast_prime(n, times \u001b[38;5;241m-\u001b[39m \u001b[38;5;241m1\u001b[39m)\n\u001b[0;32m      6\u001b[0m \u001b[38;5;28;01mreturn\u001b[39;00m \u001b[38;5;28;01mFalse\u001b[39;00m\n",
      "\u001b[1;31mNameError\u001b[0m: name 'fermat_test' is not defined"
     ]
    }
   ],
   "source": [
    "test_is_fast_prime()"
   ]
  },
  {
   "cell_type": "code",
   "execution_count": 14,
   "metadata": {},
   "outputs": [],
   "source": [
    "def is_fast_prime():..."
   ]
  },
  {
   "cell_type": "code",
   "execution_count": 15,
   "metadata": {},
   "outputs": [
    {
     "ename": "TypeError",
     "evalue": "is_fast_prime() takes 0 positional arguments but 2 were given",
     "output_type": "error",
     "traceback": [
      "\u001b[1;31m---------------------------------------------------------------------------\u001b[0m",
      "\u001b[1;31mTypeError\u001b[0m                                 Traceback (most recent call last)",
      "Cell \u001b[1;32mIn[15], line 1\u001b[0m\n\u001b[1;32m----> 1\u001b[0m \u001b[43mtest_is_fast_prime\u001b[49m\u001b[43m(\u001b[49m\u001b[43m)\u001b[49m\n",
      "Cell \u001b[1;32mIn[12], line 4\u001b[0m, in \u001b[0;36mtest_is_fast_prime\u001b[1;34m()\u001b[0m\n\u001b[0;32m      2\u001b[0m primes \u001b[38;5;241m=\u001b[39m ((\u001b[38;5;241m2\u001b[39m, \u001b[38;5;28;01mTrue\u001b[39;00m), (\u001b[38;5;241m3\u001b[39m, \u001b[38;5;28;01mTrue\u001b[39;00m), (\u001b[38;5;241m4\u001b[39m, \u001b[38;5;28;01mFalse\u001b[39;00m), (\u001b[38;5;241m5\u001b[39m, \u001b[38;5;28;01mTrue\u001b[39;00m), (\u001b[38;5;241m6\u001b[39m, \u001b[38;5;28;01mFalse\u001b[39;00m), (\u001b[38;5;241m7\u001b[39m, \u001b[38;5;28;01mTrue\u001b[39;00m), (\u001b[38;5;241m8\u001b[39m, \u001b[38;5;28;01mFalse\u001b[39;00m), (\u001b[38;5;241m9\u001b[39m, \u001b[38;5;28;01mFalse\u001b[39;00m), (\u001b[38;5;241m10\u001b[39m, \u001b[38;5;28;01mFalse\u001b[39;00m), (\u001b[38;5;241m11\u001b[39m, \u001b[38;5;28;01mTrue\u001b[39;00m))\n\u001b[0;32m      3\u001b[0m \u001b[38;5;28;01mfor\u001b[39;00m i \u001b[38;5;129;01min\u001b[39;00m primes:\n\u001b[1;32m----> 4\u001b[0m     \u001b[38;5;28;01massert\u001b[39;00m \u001b[43mis_fast_prime\u001b[49m\u001b[43m(\u001b[49m\u001b[43mi\u001b[49m\u001b[43m[\u001b[49m\u001b[38;5;241;43m0\u001b[39;49m\u001b[43m]\u001b[49m\u001b[43m,\u001b[49m\u001b[43m \u001b[49m\u001b[38;5;241;43m2\u001b[39;49m\u001b[43m)\u001b[49m \u001b[38;5;129;01mis\u001b[39;00m i[\u001b[38;5;241m1\u001b[39m]\n",
      "\u001b[1;31mTypeError\u001b[0m: is_fast_prime() takes 0 positional arguments but 2 were given"
     ]
    }
   ],
   "source": [
    "test_is_fast_prime()"
   ]
  },
  {
   "cell_type": "code",
   "execution_count": 16,
   "metadata": {},
   "outputs": [],
   "source": [
    "def is_fast_prime(n): ..."
   ]
  },
  {
   "cell_type": "code",
   "execution_count": 17,
   "metadata": {},
   "outputs": [
    {
     "ename": "TypeError",
     "evalue": "is_fast_prime() takes 1 positional argument but 2 were given",
     "output_type": "error",
     "traceback": [
      "\u001b[1;31m---------------------------------------------------------------------------\u001b[0m",
      "\u001b[1;31mTypeError\u001b[0m                                 Traceback (most recent call last)",
      "Cell \u001b[1;32mIn[17], line 1\u001b[0m\n\u001b[1;32m----> 1\u001b[0m \u001b[43mtest_is_fast_prime\u001b[49m\u001b[43m(\u001b[49m\u001b[43m)\u001b[49m\n",
      "Cell \u001b[1;32mIn[12], line 4\u001b[0m, in \u001b[0;36mtest_is_fast_prime\u001b[1;34m()\u001b[0m\n\u001b[0;32m      2\u001b[0m primes \u001b[38;5;241m=\u001b[39m ((\u001b[38;5;241m2\u001b[39m, \u001b[38;5;28;01mTrue\u001b[39;00m), (\u001b[38;5;241m3\u001b[39m, \u001b[38;5;28;01mTrue\u001b[39;00m), (\u001b[38;5;241m4\u001b[39m, \u001b[38;5;28;01mFalse\u001b[39;00m), (\u001b[38;5;241m5\u001b[39m, \u001b[38;5;28;01mTrue\u001b[39;00m), (\u001b[38;5;241m6\u001b[39m, \u001b[38;5;28;01mFalse\u001b[39;00m), (\u001b[38;5;241m7\u001b[39m, \u001b[38;5;28;01mTrue\u001b[39;00m), (\u001b[38;5;241m8\u001b[39m, \u001b[38;5;28;01mFalse\u001b[39;00m), (\u001b[38;5;241m9\u001b[39m, \u001b[38;5;28;01mFalse\u001b[39;00m), (\u001b[38;5;241m10\u001b[39m, \u001b[38;5;28;01mFalse\u001b[39;00m), (\u001b[38;5;241m11\u001b[39m, \u001b[38;5;28;01mTrue\u001b[39;00m))\n\u001b[0;32m      3\u001b[0m \u001b[38;5;28;01mfor\u001b[39;00m i \u001b[38;5;129;01min\u001b[39;00m primes:\n\u001b[1;32m----> 4\u001b[0m     \u001b[38;5;28;01massert\u001b[39;00m \u001b[43mis_fast_prime\u001b[49m\u001b[43m(\u001b[49m\u001b[43mi\u001b[49m\u001b[43m[\u001b[49m\u001b[38;5;241;43m0\u001b[39;49m\u001b[43m]\u001b[49m\u001b[43m,\u001b[49m\u001b[43m \u001b[49m\u001b[38;5;241;43m2\u001b[39;49m\u001b[43m)\u001b[49m \u001b[38;5;129;01mis\u001b[39;00m i[\u001b[38;5;241m1\u001b[39m]\n",
      "\u001b[1;31mTypeError\u001b[0m: is_fast_prime() takes 1 positional argument but 2 were given"
     ]
    }
   ],
   "source": [
    "test_is_fast_prime()"
   ]
  },
  {
   "cell_type": "code",
   "execution_count": 18,
   "metadata": {},
   "outputs": [],
   "source": [
    "def is_fast_prime(n, times):\n",
    "    if times == 0:\n",
    "        return True\n",
    "    if fermat_test(n):\n",
    "        return is_fast_prime(n, times - 1)\n",
    "    return False"
   ]
  },
  {
   "cell_type": "code",
   "execution_count": 19,
   "metadata": {},
   "outputs": [
    {
     "ename": "NameError",
     "evalue": "name 'fermat_test' is not defined",
     "output_type": "error",
     "traceback": [
      "\u001b[1;31m---------------------------------------------------------------------------\u001b[0m",
      "\u001b[1;31mNameError\u001b[0m                                 Traceback (most recent call last)",
      "Cell \u001b[1;32mIn[19], line 1\u001b[0m\n\u001b[1;32m----> 1\u001b[0m \u001b[43mtest_is_fast_prime\u001b[49m\u001b[43m(\u001b[49m\u001b[43m)\u001b[49m\n",
      "Cell \u001b[1;32mIn[12], line 4\u001b[0m, in \u001b[0;36mtest_is_fast_prime\u001b[1;34m()\u001b[0m\n\u001b[0;32m      2\u001b[0m primes \u001b[38;5;241m=\u001b[39m ((\u001b[38;5;241m2\u001b[39m, \u001b[38;5;28;01mTrue\u001b[39;00m), (\u001b[38;5;241m3\u001b[39m, \u001b[38;5;28;01mTrue\u001b[39;00m), (\u001b[38;5;241m4\u001b[39m, \u001b[38;5;28;01mFalse\u001b[39;00m), (\u001b[38;5;241m5\u001b[39m, \u001b[38;5;28;01mTrue\u001b[39;00m), (\u001b[38;5;241m6\u001b[39m, \u001b[38;5;28;01mFalse\u001b[39;00m), (\u001b[38;5;241m7\u001b[39m, \u001b[38;5;28;01mTrue\u001b[39;00m), (\u001b[38;5;241m8\u001b[39m, \u001b[38;5;28;01mFalse\u001b[39;00m), (\u001b[38;5;241m9\u001b[39m, \u001b[38;5;28;01mFalse\u001b[39;00m), (\u001b[38;5;241m10\u001b[39m, \u001b[38;5;28;01mFalse\u001b[39;00m), (\u001b[38;5;241m11\u001b[39m, \u001b[38;5;28;01mTrue\u001b[39;00m))\n\u001b[0;32m      3\u001b[0m \u001b[38;5;28;01mfor\u001b[39;00m i \u001b[38;5;129;01min\u001b[39;00m primes:\n\u001b[1;32m----> 4\u001b[0m     \u001b[38;5;28;01massert\u001b[39;00m \u001b[43mis_fast_prime\u001b[49m\u001b[43m(\u001b[49m\u001b[43mi\u001b[49m\u001b[43m[\u001b[49m\u001b[38;5;241;43m0\u001b[39;49m\u001b[43m]\u001b[49m\u001b[43m,\u001b[49m\u001b[43m \u001b[49m\u001b[38;5;241;43m2\u001b[39;49m\u001b[43m)\u001b[49m \u001b[38;5;129;01mis\u001b[39;00m i[\u001b[38;5;241m1\u001b[39m]\n",
      "Cell \u001b[1;32mIn[18], line 4\u001b[0m, in \u001b[0;36mis_fast_prime\u001b[1;34m(n, times)\u001b[0m\n\u001b[0;32m      2\u001b[0m \u001b[38;5;28;01mif\u001b[39;00m times \u001b[38;5;241m==\u001b[39m \u001b[38;5;241m0\u001b[39m:\n\u001b[0;32m      3\u001b[0m     \u001b[38;5;28;01mreturn\u001b[39;00m \u001b[38;5;28;01mTrue\u001b[39;00m\n\u001b[1;32m----> 4\u001b[0m \u001b[38;5;28;01mif\u001b[39;00m \u001b[43mfermat_test\u001b[49m(n):\n\u001b[0;32m      5\u001b[0m     \u001b[38;5;28;01mreturn\u001b[39;00m is_fast_prime(n, times \u001b[38;5;241m-\u001b[39m \u001b[38;5;241m1\u001b[39m)\n\u001b[0;32m      6\u001b[0m \u001b[38;5;28;01mreturn\u001b[39;00m \u001b[38;5;28;01mFalse\u001b[39;00m\n",
      "\u001b[1;31mNameError\u001b[0m: name 'fermat_test' is not defined"
     ]
    }
   ],
   "source": [
    "test_is_fast_prime()"
   ]
  },
  {
   "cell_type": "code",
   "execution_count": 20,
   "metadata": {},
   "outputs": [],
   "source": [
    "import random\n",
    "\n",
    "def fermat_test(n):\n",
    "    def try_it(a):\n",
    "        return expmod(a, n, n) == a\n",
    "    return try_it(1 + random.randrange(n - 1))"
   ]
  },
  {
   "cell_type": "code",
   "execution_count": 21,
   "metadata": {},
   "outputs": [
    {
     "ename": "NameError",
     "evalue": "name 'expmod' is not defined",
     "output_type": "error",
     "traceback": [
      "\u001b[1;31m---------------------------------------------------------------------------\u001b[0m",
      "\u001b[1;31mNameError\u001b[0m                                 Traceback (most recent call last)",
      "Cell \u001b[1;32mIn[21], line 1\u001b[0m\n\u001b[1;32m----> 1\u001b[0m \u001b[43mtest_is_fast_prime\u001b[49m\u001b[43m(\u001b[49m\u001b[43m)\u001b[49m\n",
      "Cell \u001b[1;32mIn[12], line 4\u001b[0m, in \u001b[0;36mtest_is_fast_prime\u001b[1;34m()\u001b[0m\n\u001b[0;32m      2\u001b[0m primes \u001b[38;5;241m=\u001b[39m ((\u001b[38;5;241m2\u001b[39m, \u001b[38;5;28;01mTrue\u001b[39;00m), (\u001b[38;5;241m3\u001b[39m, \u001b[38;5;28;01mTrue\u001b[39;00m), (\u001b[38;5;241m4\u001b[39m, \u001b[38;5;28;01mFalse\u001b[39;00m), (\u001b[38;5;241m5\u001b[39m, \u001b[38;5;28;01mTrue\u001b[39;00m), (\u001b[38;5;241m6\u001b[39m, \u001b[38;5;28;01mFalse\u001b[39;00m), (\u001b[38;5;241m7\u001b[39m, \u001b[38;5;28;01mTrue\u001b[39;00m), (\u001b[38;5;241m8\u001b[39m, \u001b[38;5;28;01mFalse\u001b[39;00m), (\u001b[38;5;241m9\u001b[39m, \u001b[38;5;28;01mFalse\u001b[39;00m), (\u001b[38;5;241m10\u001b[39m, \u001b[38;5;28;01mFalse\u001b[39;00m), (\u001b[38;5;241m11\u001b[39m, \u001b[38;5;28;01mTrue\u001b[39;00m))\n\u001b[0;32m      3\u001b[0m \u001b[38;5;28;01mfor\u001b[39;00m i \u001b[38;5;129;01min\u001b[39;00m primes:\n\u001b[1;32m----> 4\u001b[0m     \u001b[38;5;28;01massert\u001b[39;00m \u001b[43mis_fast_prime\u001b[49m\u001b[43m(\u001b[49m\u001b[43mi\u001b[49m\u001b[43m[\u001b[49m\u001b[38;5;241;43m0\u001b[39;49m\u001b[43m]\u001b[49m\u001b[43m,\u001b[49m\u001b[43m \u001b[49m\u001b[38;5;241;43m2\u001b[39;49m\u001b[43m)\u001b[49m \u001b[38;5;129;01mis\u001b[39;00m i[\u001b[38;5;241m1\u001b[39m]\n",
      "Cell \u001b[1;32mIn[18], line 4\u001b[0m, in \u001b[0;36mis_fast_prime\u001b[1;34m(n, times)\u001b[0m\n\u001b[0;32m      2\u001b[0m \u001b[38;5;28;01mif\u001b[39;00m times \u001b[38;5;241m==\u001b[39m \u001b[38;5;241m0\u001b[39m:\n\u001b[0;32m      3\u001b[0m     \u001b[38;5;28;01mreturn\u001b[39;00m \u001b[38;5;28;01mTrue\u001b[39;00m\n\u001b[1;32m----> 4\u001b[0m \u001b[38;5;28;01mif\u001b[39;00m \u001b[43mfermat_test\u001b[49m\u001b[43m(\u001b[49m\u001b[43mn\u001b[49m\u001b[43m)\u001b[49m:\n\u001b[0;32m      5\u001b[0m     \u001b[38;5;28;01mreturn\u001b[39;00m is_fast_prime(n, times \u001b[38;5;241m-\u001b[39m \u001b[38;5;241m1\u001b[39m)\n\u001b[0;32m      6\u001b[0m \u001b[38;5;28;01mreturn\u001b[39;00m \u001b[38;5;28;01mFalse\u001b[39;00m\n",
      "Cell \u001b[1;32mIn[20], line 6\u001b[0m, in \u001b[0;36mfermat_test\u001b[1;34m(n)\u001b[0m\n\u001b[0;32m      4\u001b[0m \u001b[38;5;28;01mdef\u001b[39;00m \u001b[38;5;21mtry_it\u001b[39m(a):\n\u001b[0;32m      5\u001b[0m     \u001b[38;5;28;01mreturn\u001b[39;00m expmod(a, n, n) \u001b[38;5;241m==\u001b[39m a\n\u001b[1;32m----> 6\u001b[0m \u001b[38;5;28;01mreturn\u001b[39;00m \u001b[43mtry_it\u001b[49m\u001b[43m(\u001b[49m\u001b[38;5;241;43m1\u001b[39;49m\u001b[43m \u001b[49m\u001b[38;5;241;43m+\u001b[39;49m\u001b[43m \u001b[49m\u001b[43mrandom\u001b[49m\u001b[38;5;241;43m.\u001b[39;49m\u001b[43mrandrange\u001b[49m\u001b[43m(\u001b[49m\u001b[43mn\u001b[49m\u001b[43m \u001b[49m\u001b[38;5;241;43m-\u001b[39;49m\u001b[43m \u001b[49m\u001b[38;5;241;43m1\u001b[39;49m\u001b[43m)\u001b[49m\u001b[43m)\u001b[49m\n",
      "Cell \u001b[1;32mIn[20], line 5\u001b[0m, in \u001b[0;36mfermat_test.<locals>.try_it\u001b[1;34m(a)\u001b[0m\n\u001b[0;32m      4\u001b[0m \u001b[38;5;28;01mdef\u001b[39;00m \u001b[38;5;21mtry_it\u001b[39m(a):\n\u001b[1;32m----> 5\u001b[0m     \u001b[38;5;28;01mreturn\u001b[39;00m \u001b[43mexpmod\u001b[49m(a, n, n) \u001b[38;5;241m==\u001b[39m a\n",
      "\u001b[1;31mNameError\u001b[0m: name 'expmod' is not defined"
     ]
    }
   ],
   "source": [
    "test_is_fast_prime()"
   ]
  },
  {
   "cell_type": "code",
   "execution_count": 22,
   "metadata": {},
   "outputs": [],
   "source": [
    "def expmod(base, exp, m):\n",
    "    if exp == 0:\n",
    "        return 1\n",
    "    if is_even(exp):\n",
    "        return square(expmode(base, exp / 2, m)) % m\n",
    "    return (base * expmod(base, exp - 1, m)) % m"
   ]
  },
  {
   "cell_type": "code",
   "execution_count": 23,
   "metadata": {},
   "outputs": [
    {
     "ename": "NameError",
     "evalue": "name 'is_even' is not defined",
     "output_type": "error",
     "traceback": [
      "\u001b[1;31m---------------------------------------------------------------------------\u001b[0m",
      "\u001b[1;31mNameError\u001b[0m                                 Traceback (most recent call last)",
      "Cell \u001b[1;32mIn[23], line 1\u001b[0m\n\u001b[1;32m----> 1\u001b[0m \u001b[43mtest_is_fast_prime\u001b[49m\u001b[43m(\u001b[49m\u001b[43m)\u001b[49m\n",
      "Cell \u001b[1;32mIn[12], line 4\u001b[0m, in \u001b[0;36mtest_is_fast_prime\u001b[1;34m()\u001b[0m\n\u001b[0;32m      2\u001b[0m primes \u001b[38;5;241m=\u001b[39m ((\u001b[38;5;241m2\u001b[39m, \u001b[38;5;28;01mTrue\u001b[39;00m), (\u001b[38;5;241m3\u001b[39m, \u001b[38;5;28;01mTrue\u001b[39;00m), (\u001b[38;5;241m4\u001b[39m, \u001b[38;5;28;01mFalse\u001b[39;00m), (\u001b[38;5;241m5\u001b[39m, \u001b[38;5;28;01mTrue\u001b[39;00m), (\u001b[38;5;241m6\u001b[39m, \u001b[38;5;28;01mFalse\u001b[39;00m), (\u001b[38;5;241m7\u001b[39m, \u001b[38;5;28;01mTrue\u001b[39;00m), (\u001b[38;5;241m8\u001b[39m, \u001b[38;5;28;01mFalse\u001b[39;00m), (\u001b[38;5;241m9\u001b[39m, \u001b[38;5;28;01mFalse\u001b[39;00m), (\u001b[38;5;241m10\u001b[39m, \u001b[38;5;28;01mFalse\u001b[39;00m), (\u001b[38;5;241m11\u001b[39m, \u001b[38;5;28;01mTrue\u001b[39;00m))\n\u001b[0;32m      3\u001b[0m \u001b[38;5;28;01mfor\u001b[39;00m i \u001b[38;5;129;01min\u001b[39;00m primes:\n\u001b[1;32m----> 4\u001b[0m     \u001b[38;5;28;01massert\u001b[39;00m \u001b[43mis_fast_prime\u001b[49m\u001b[43m(\u001b[49m\u001b[43mi\u001b[49m\u001b[43m[\u001b[49m\u001b[38;5;241;43m0\u001b[39;49m\u001b[43m]\u001b[49m\u001b[43m,\u001b[49m\u001b[43m \u001b[49m\u001b[38;5;241;43m2\u001b[39;49m\u001b[43m)\u001b[49m \u001b[38;5;129;01mis\u001b[39;00m i[\u001b[38;5;241m1\u001b[39m]\n",
      "Cell \u001b[1;32mIn[18], line 4\u001b[0m, in \u001b[0;36mis_fast_prime\u001b[1;34m(n, times)\u001b[0m\n\u001b[0;32m      2\u001b[0m \u001b[38;5;28;01mif\u001b[39;00m times \u001b[38;5;241m==\u001b[39m \u001b[38;5;241m0\u001b[39m:\n\u001b[0;32m      3\u001b[0m     \u001b[38;5;28;01mreturn\u001b[39;00m \u001b[38;5;28;01mTrue\u001b[39;00m\n\u001b[1;32m----> 4\u001b[0m \u001b[38;5;28;01mif\u001b[39;00m \u001b[43mfermat_test\u001b[49m\u001b[43m(\u001b[49m\u001b[43mn\u001b[49m\u001b[43m)\u001b[49m:\n\u001b[0;32m      5\u001b[0m     \u001b[38;5;28;01mreturn\u001b[39;00m is_fast_prime(n, times \u001b[38;5;241m-\u001b[39m \u001b[38;5;241m1\u001b[39m)\n\u001b[0;32m      6\u001b[0m \u001b[38;5;28;01mreturn\u001b[39;00m \u001b[38;5;28;01mFalse\u001b[39;00m\n",
      "Cell \u001b[1;32mIn[20], line 6\u001b[0m, in \u001b[0;36mfermat_test\u001b[1;34m(n)\u001b[0m\n\u001b[0;32m      4\u001b[0m \u001b[38;5;28;01mdef\u001b[39;00m \u001b[38;5;21mtry_it\u001b[39m(a):\n\u001b[0;32m      5\u001b[0m     \u001b[38;5;28;01mreturn\u001b[39;00m expmod(a, n, n) \u001b[38;5;241m==\u001b[39m a\n\u001b[1;32m----> 6\u001b[0m \u001b[38;5;28;01mreturn\u001b[39;00m \u001b[43mtry_it\u001b[49m\u001b[43m(\u001b[49m\u001b[38;5;241;43m1\u001b[39;49m\u001b[43m \u001b[49m\u001b[38;5;241;43m+\u001b[39;49m\u001b[43m \u001b[49m\u001b[43mrandom\u001b[49m\u001b[38;5;241;43m.\u001b[39;49m\u001b[43mrandrange\u001b[49m\u001b[43m(\u001b[49m\u001b[43mn\u001b[49m\u001b[43m \u001b[49m\u001b[38;5;241;43m-\u001b[39;49m\u001b[43m \u001b[49m\u001b[38;5;241;43m1\u001b[39;49m\u001b[43m)\u001b[49m\u001b[43m)\u001b[49m\n",
      "Cell \u001b[1;32mIn[20], line 5\u001b[0m, in \u001b[0;36mfermat_test.<locals>.try_it\u001b[1;34m(a)\u001b[0m\n\u001b[0;32m      4\u001b[0m \u001b[38;5;28;01mdef\u001b[39;00m \u001b[38;5;21mtry_it\u001b[39m(a):\n\u001b[1;32m----> 5\u001b[0m     \u001b[38;5;28;01mreturn\u001b[39;00m \u001b[43mexpmod\u001b[49m\u001b[43m(\u001b[49m\u001b[43ma\u001b[49m\u001b[43m,\u001b[49m\u001b[43m \u001b[49m\u001b[43mn\u001b[49m\u001b[43m,\u001b[49m\u001b[43m \u001b[49m\u001b[43mn\u001b[49m\u001b[43m)\u001b[49m \u001b[38;5;241m==\u001b[39m a\n",
      "Cell \u001b[1;32mIn[22], line 4\u001b[0m, in \u001b[0;36mexpmod\u001b[1;34m(base, exp, m)\u001b[0m\n\u001b[0;32m      2\u001b[0m \u001b[38;5;28;01mif\u001b[39;00m exp \u001b[38;5;241m==\u001b[39m \u001b[38;5;241m0\u001b[39m:\n\u001b[0;32m      3\u001b[0m     \u001b[38;5;28;01mreturn\u001b[39;00m \u001b[38;5;241m1\u001b[39m\n\u001b[1;32m----> 4\u001b[0m \u001b[38;5;28;01mif\u001b[39;00m \u001b[43mis_even\u001b[49m(exp):\n\u001b[0;32m      5\u001b[0m     \u001b[38;5;28;01mreturn\u001b[39;00m square(expmode(base, exp \u001b[38;5;241m/\u001b[39m \u001b[38;5;241m2\u001b[39m, m)) \u001b[38;5;241m%\u001b[39m m\n\u001b[0;32m      6\u001b[0m \u001b[38;5;28;01mreturn\u001b[39;00m (base \u001b[38;5;241m*\u001b[39m expmod(base, exp \u001b[38;5;241m-\u001b[39m \u001b[38;5;241m1\u001b[39m, m)) \u001b[38;5;241m%\u001b[39m m\n",
      "\u001b[1;31mNameError\u001b[0m: name 'is_even' is not defined"
     ]
    }
   ],
   "source": [
    "test_is_fast_prime()"
   ]
  },
  {
   "cell_type": "code",
   "execution_count": 24,
   "metadata": {},
   "outputs": [],
   "source": [
    "def is_even(n):\n",
    "    return n % 2 == 0"
   ]
  },
  {
   "cell_type": "code",
   "execution_count": 25,
   "metadata": {},
   "outputs": [
    {
     "ename": "NameError",
     "evalue": "name 'square' is not defined",
     "output_type": "error",
     "traceback": [
      "\u001b[1;31m---------------------------------------------------------------------------\u001b[0m",
      "\u001b[1;31mNameError\u001b[0m                                 Traceback (most recent call last)",
      "Cell \u001b[1;32mIn[25], line 1\u001b[0m\n\u001b[1;32m----> 1\u001b[0m \u001b[43mtest_is_fast_prime\u001b[49m\u001b[43m(\u001b[49m\u001b[43m)\u001b[49m\n",
      "Cell \u001b[1;32mIn[12], line 4\u001b[0m, in \u001b[0;36mtest_is_fast_prime\u001b[1;34m()\u001b[0m\n\u001b[0;32m      2\u001b[0m primes \u001b[38;5;241m=\u001b[39m ((\u001b[38;5;241m2\u001b[39m, \u001b[38;5;28;01mTrue\u001b[39;00m), (\u001b[38;5;241m3\u001b[39m, \u001b[38;5;28;01mTrue\u001b[39;00m), (\u001b[38;5;241m4\u001b[39m, \u001b[38;5;28;01mFalse\u001b[39;00m), (\u001b[38;5;241m5\u001b[39m, \u001b[38;5;28;01mTrue\u001b[39;00m), (\u001b[38;5;241m6\u001b[39m, \u001b[38;5;28;01mFalse\u001b[39;00m), (\u001b[38;5;241m7\u001b[39m, \u001b[38;5;28;01mTrue\u001b[39;00m), (\u001b[38;5;241m8\u001b[39m, \u001b[38;5;28;01mFalse\u001b[39;00m), (\u001b[38;5;241m9\u001b[39m, \u001b[38;5;28;01mFalse\u001b[39;00m), (\u001b[38;5;241m10\u001b[39m, \u001b[38;5;28;01mFalse\u001b[39;00m), (\u001b[38;5;241m11\u001b[39m, \u001b[38;5;28;01mTrue\u001b[39;00m))\n\u001b[0;32m      3\u001b[0m \u001b[38;5;28;01mfor\u001b[39;00m i \u001b[38;5;129;01min\u001b[39;00m primes:\n\u001b[1;32m----> 4\u001b[0m     \u001b[38;5;28;01massert\u001b[39;00m \u001b[43mis_fast_prime\u001b[49m\u001b[43m(\u001b[49m\u001b[43mi\u001b[49m\u001b[43m[\u001b[49m\u001b[38;5;241;43m0\u001b[39;49m\u001b[43m]\u001b[49m\u001b[43m,\u001b[49m\u001b[43m \u001b[49m\u001b[38;5;241;43m2\u001b[39;49m\u001b[43m)\u001b[49m \u001b[38;5;129;01mis\u001b[39;00m i[\u001b[38;5;241m1\u001b[39m]\n",
      "Cell \u001b[1;32mIn[18], line 4\u001b[0m, in \u001b[0;36mis_fast_prime\u001b[1;34m(n, times)\u001b[0m\n\u001b[0;32m      2\u001b[0m \u001b[38;5;28;01mif\u001b[39;00m times \u001b[38;5;241m==\u001b[39m \u001b[38;5;241m0\u001b[39m:\n\u001b[0;32m      3\u001b[0m     \u001b[38;5;28;01mreturn\u001b[39;00m \u001b[38;5;28;01mTrue\u001b[39;00m\n\u001b[1;32m----> 4\u001b[0m \u001b[38;5;28;01mif\u001b[39;00m \u001b[43mfermat_test\u001b[49m\u001b[43m(\u001b[49m\u001b[43mn\u001b[49m\u001b[43m)\u001b[49m:\n\u001b[0;32m      5\u001b[0m     \u001b[38;5;28;01mreturn\u001b[39;00m is_fast_prime(n, times \u001b[38;5;241m-\u001b[39m \u001b[38;5;241m1\u001b[39m)\n\u001b[0;32m      6\u001b[0m \u001b[38;5;28;01mreturn\u001b[39;00m \u001b[38;5;28;01mFalse\u001b[39;00m\n",
      "Cell \u001b[1;32mIn[20], line 6\u001b[0m, in \u001b[0;36mfermat_test\u001b[1;34m(n)\u001b[0m\n\u001b[0;32m      4\u001b[0m \u001b[38;5;28;01mdef\u001b[39;00m \u001b[38;5;21mtry_it\u001b[39m(a):\n\u001b[0;32m      5\u001b[0m     \u001b[38;5;28;01mreturn\u001b[39;00m expmod(a, n, n) \u001b[38;5;241m==\u001b[39m a\n\u001b[1;32m----> 6\u001b[0m \u001b[38;5;28;01mreturn\u001b[39;00m \u001b[43mtry_it\u001b[49m\u001b[43m(\u001b[49m\u001b[38;5;241;43m1\u001b[39;49m\u001b[43m \u001b[49m\u001b[38;5;241;43m+\u001b[39;49m\u001b[43m \u001b[49m\u001b[43mrandom\u001b[49m\u001b[38;5;241;43m.\u001b[39;49m\u001b[43mrandrange\u001b[49m\u001b[43m(\u001b[49m\u001b[43mn\u001b[49m\u001b[43m \u001b[49m\u001b[38;5;241;43m-\u001b[39;49m\u001b[43m \u001b[49m\u001b[38;5;241;43m1\u001b[39;49m\u001b[43m)\u001b[49m\u001b[43m)\u001b[49m\n",
      "Cell \u001b[1;32mIn[20], line 5\u001b[0m, in \u001b[0;36mfermat_test.<locals>.try_it\u001b[1;34m(a)\u001b[0m\n\u001b[0;32m      4\u001b[0m \u001b[38;5;28;01mdef\u001b[39;00m \u001b[38;5;21mtry_it\u001b[39m(a):\n\u001b[1;32m----> 5\u001b[0m     \u001b[38;5;28;01mreturn\u001b[39;00m \u001b[43mexpmod\u001b[49m\u001b[43m(\u001b[49m\u001b[43ma\u001b[49m\u001b[43m,\u001b[49m\u001b[43m \u001b[49m\u001b[43mn\u001b[49m\u001b[43m,\u001b[49m\u001b[43m \u001b[49m\u001b[43mn\u001b[49m\u001b[43m)\u001b[49m \u001b[38;5;241m==\u001b[39m a\n",
      "Cell \u001b[1;32mIn[22], line 5\u001b[0m, in \u001b[0;36mexpmod\u001b[1;34m(base, exp, m)\u001b[0m\n\u001b[0;32m      3\u001b[0m     \u001b[38;5;28;01mreturn\u001b[39;00m \u001b[38;5;241m1\u001b[39m\n\u001b[0;32m      4\u001b[0m \u001b[38;5;28;01mif\u001b[39;00m is_even(exp):\n\u001b[1;32m----> 5\u001b[0m     \u001b[38;5;28;01mreturn\u001b[39;00m \u001b[43msquare\u001b[49m(expmode(base, exp \u001b[38;5;241m/\u001b[39m \u001b[38;5;241m2\u001b[39m, m)) \u001b[38;5;241m%\u001b[39m m\n\u001b[0;32m      6\u001b[0m \u001b[38;5;28;01mreturn\u001b[39;00m (base \u001b[38;5;241m*\u001b[39m expmod(base, exp \u001b[38;5;241m-\u001b[39m \u001b[38;5;241m1\u001b[39m, m)) \u001b[38;5;241m%\u001b[39m m\n",
      "\u001b[1;31mNameError\u001b[0m: name 'square' is not defined"
     ]
    }
   ],
   "source": [
    "test_is_fast_prime()"
   ]
  },
  {
   "cell_type": "code",
   "execution_count": 26,
   "metadata": {},
   "outputs": [],
   "source": [
    "def square(a):\n",
    "    return a * a"
   ]
  },
  {
   "cell_type": "code",
   "execution_count": 27,
   "metadata": {},
   "outputs": [
    {
     "ename": "NameError",
     "evalue": "name 'expmode' is not defined",
     "output_type": "error",
     "traceback": [
      "\u001b[1;31m---------------------------------------------------------------------------\u001b[0m",
      "\u001b[1;31mNameError\u001b[0m                                 Traceback (most recent call last)",
      "Cell \u001b[1;32mIn[27], line 1\u001b[0m\n\u001b[1;32m----> 1\u001b[0m \u001b[43mtest_is_fast_prime\u001b[49m\u001b[43m(\u001b[49m\u001b[43m)\u001b[49m\n",
      "Cell \u001b[1;32mIn[12], line 4\u001b[0m, in \u001b[0;36mtest_is_fast_prime\u001b[1;34m()\u001b[0m\n\u001b[0;32m      2\u001b[0m primes \u001b[38;5;241m=\u001b[39m ((\u001b[38;5;241m2\u001b[39m, \u001b[38;5;28;01mTrue\u001b[39;00m), (\u001b[38;5;241m3\u001b[39m, \u001b[38;5;28;01mTrue\u001b[39;00m), (\u001b[38;5;241m4\u001b[39m, \u001b[38;5;28;01mFalse\u001b[39;00m), (\u001b[38;5;241m5\u001b[39m, \u001b[38;5;28;01mTrue\u001b[39;00m), (\u001b[38;5;241m6\u001b[39m, \u001b[38;5;28;01mFalse\u001b[39;00m), (\u001b[38;5;241m7\u001b[39m, \u001b[38;5;28;01mTrue\u001b[39;00m), (\u001b[38;5;241m8\u001b[39m, \u001b[38;5;28;01mFalse\u001b[39;00m), (\u001b[38;5;241m9\u001b[39m, \u001b[38;5;28;01mFalse\u001b[39;00m), (\u001b[38;5;241m10\u001b[39m, \u001b[38;5;28;01mFalse\u001b[39;00m), (\u001b[38;5;241m11\u001b[39m, \u001b[38;5;28;01mTrue\u001b[39;00m))\n\u001b[0;32m      3\u001b[0m \u001b[38;5;28;01mfor\u001b[39;00m i \u001b[38;5;129;01min\u001b[39;00m primes:\n\u001b[1;32m----> 4\u001b[0m     \u001b[38;5;28;01massert\u001b[39;00m \u001b[43mis_fast_prime\u001b[49m\u001b[43m(\u001b[49m\u001b[43mi\u001b[49m\u001b[43m[\u001b[49m\u001b[38;5;241;43m0\u001b[39;49m\u001b[43m]\u001b[49m\u001b[43m,\u001b[49m\u001b[43m \u001b[49m\u001b[38;5;241;43m2\u001b[39;49m\u001b[43m)\u001b[49m \u001b[38;5;129;01mis\u001b[39;00m i[\u001b[38;5;241m1\u001b[39m]\n",
      "Cell \u001b[1;32mIn[18], line 4\u001b[0m, in \u001b[0;36mis_fast_prime\u001b[1;34m(n, times)\u001b[0m\n\u001b[0;32m      2\u001b[0m \u001b[38;5;28;01mif\u001b[39;00m times \u001b[38;5;241m==\u001b[39m \u001b[38;5;241m0\u001b[39m:\n\u001b[0;32m      3\u001b[0m     \u001b[38;5;28;01mreturn\u001b[39;00m \u001b[38;5;28;01mTrue\u001b[39;00m\n\u001b[1;32m----> 4\u001b[0m \u001b[38;5;28;01mif\u001b[39;00m \u001b[43mfermat_test\u001b[49m\u001b[43m(\u001b[49m\u001b[43mn\u001b[49m\u001b[43m)\u001b[49m:\n\u001b[0;32m      5\u001b[0m     \u001b[38;5;28;01mreturn\u001b[39;00m is_fast_prime(n, times \u001b[38;5;241m-\u001b[39m \u001b[38;5;241m1\u001b[39m)\n\u001b[0;32m      6\u001b[0m \u001b[38;5;28;01mreturn\u001b[39;00m \u001b[38;5;28;01mFalse\u001b[39;00m\n",
      "Cell \u001b[1;32mIn[20], line 6\u001b[0m, in \u001b[0;36mfermat_test\u001b[1;34m(n)\u001b[0m\n\u001b[0;32m      4\u001b[0m \u001b[38;5;28;01mdef\u001b[39;00m \u001b[38;5;21mtry_it\u001b[39m(a):\n\u001b[0;32m      5\u001b[0m     \u001b[38;5;28;01mreturn\u001b[39;00m expmod(a, n, n) \u001b[38;5;241m==\u001b[39m a\n\u001b[1;32m----> 6\u001b[0m \u001b[38;5;28;01mreturn\u001b[39;00m \u001b[43mtry_it\u001b[49m\u001b[43m(\u001b[49m\u001b[38;5;241;43m1\u001b[39;49m\u001b[43m \u001b[49m\u001b[38;5;241;43m+\u001b[39;49m\u001b[43m \u001b[49m\u001b[43mrandom\u001b[49m\u001b[38;5;241;43m.\u001b[39;49m\u001b[43mrandrange\u001b[49m\u001b[43m(\u001b[49m\u001b[43mn\u001b[49m\u001b[43m \u001b[49m\u001b[38;5;241;43m-\u001b[39;49m\u001b[43m \u001b[49m\u001b[38;5;241;43m1\u001b[39;49m\u001b[43m)\u001b[49m\u001b[43m)\u001b[49m\n",
      "Cell \u001b[1;32mIn[20], line 5\u001b[0m, in \u001b[0;36mfermat_test.<locals>.try_it\u001b[1;34m(a)\u001b[0m\n\u001b[0;32m      4\u001b[0m \u001b[38;5;28;01mdef\u001b[39;00m \u001b[38;5;21mtry_it\u001b[39m(a):\n\u001b[1;32m----> 5\u001b[0m     \u001b[38;5;28;01mreturn\u001b[39;00m \u001b[43mexpmod\u001b[49m\u001b[43m(\u001b[49m\u001b[43ma\u001b[49m\u001b[43m,\u001b[49m\u001b[43m \u001b[49m\u001b[43mn\u001b[49m\u001b[43m,\u001b[49m\u001b[43m \u001b[49m\u001b[43mn\u001b[49m\u001b[43m)\u001b[49m \u001b[38;5;241m==\u001b[39m a\n",
      "Cell \u001b[1;32mIn[22], line 5\u001b[0m, in \u001b[0;36mexpmod\u001b[1;34m(base, exp, m)\u001b[0m\n\u001b[0;32m      3\u001b[0m     \u001b[38;5;28;01mreturn\u001b[39;00m \u001b[38;5;241m1\u001b[39m\n\u001b[0;32m      4\u001b[0m \u001b[38;5;28;01mif\u001b[39;00m is_even(exp):\n\u001b[1;32m----> 5\u001b[0m     \u001b[38;5;28;01mreturn\u001b[39;00m square(\u001b[43mexpmode\u001b[49m(base, exp \u001b[38;5;241m/\u001b[39m \u001b[38;5;241m2\u001b[39m, m)) \u001b[38;5;241m%\u001b[39m m\n\u001b[0;32m      6\u001b[0m \u001b[38;5;28;01mreturn\u001b[39;00m (base \u001b[38;5;241m*\u001b[39m expmod(base, exp \u001b[38;5;241m-\u001b[39m \u001b[38;5;241m1\u001b[39m, m)) \u001b[38;5;241m%\u001b[39m m\n",
      "\u001b[1;31mNameError\u001b[0m: name 'expmode' is not defined"
     ]
    }
   ],
   "source": [
    "test_is_fast_prime()"
   ]
  },
  {
   "cell_type": "code",
   "execution_count": 28,
   "metadata": {},
   "outputs": [],
   "source": [
    "def expmod(base, exp, m):\n",
    "    if exp == 0:\n",
    "        return 1\n",
    "    if is_even(exp):\n",
    "        return square(expmod(base, exp / 2, m)) % m\n",
    "    return (base * expmod(base, exp - 1, m)) % m"
   ]
  },
  {
   "cell_type": "code",
   "execution_count": 29,
   "metadata": {},
   "outputs": [],
   "source": [
    "test_is_fast_prime()"
   ]
  },
  {
   "cell_type": "code",
   "execution_count": null,
   "metadata": {},
   "outputs": [],
   "source": []
  }
 ],
 "metadata": {
  "kernelspec": {
   "display_name": "Python 3",
   "language": "python",
   "name": "python3"
  },
  "language_info": {
   "codemirror_mode": {
    "name": "ipython",
    "version": 3
   },
   "file_extension": ".py",
   "mimetype": "text/x-python",
   "name": "python",
   "nbconvert_exporter": "python",
   "pygments_lexer": "ipython3",
   "version": "3.12.4"
  }
 },
 "nbformat": 4,
 "nbformat_minor": 2
}
