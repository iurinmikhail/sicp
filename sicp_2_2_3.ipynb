{
 "cells": [
  {
   "cell_type": "markdown",
   "metadata": {},
   "source": [
    "Последовательности как стандартный интепфейс"
   ]
  },
  {
   "cell_type": "code",
   "execution_count": 8,
   "metadata": {},
   "outputs": [],
   "source": [
    "from pair import list_\n",
    "def test_sum_odd_square():\n",
    "    \"\"\"Тест функции которая вычисляет сумму квадратов тех листьев, которые являются нечетными.\"\"\"\n",
    "    items = list_([1, list_([2, list_([3, 4]), 5]), list_([6, 7])])\n",
    "    expected = sum(map(lambda x: x * x, [1, 3, 5, 7]))\n",
    "    assert sum_odd_square(items) == expected"
   ]
  },
  {
   "cell_type": "code",
   "execution_count": 9,
   "metadata": {},
   "outputs": [
    {
     "ename": "NameError",
     "evalue": "name 'sum_odd_square' is not defined",
     "output_type": "error",
     "traceback": [
      "\u001b[1;31m---------------------------------------------------------------------------\u001b[0m",
      "\u001b[1;31mNameError\u001b[0m                                 Traceback (most recent call last)",
      "Cell \u001b[1;32mIn[9], line 1\u001b[0m\n\u001b[1;32m----> 1\u001b[0m \u001b[43mtest_sum_odd_square\u001b[49m\u001b[43m(\u001b[49m\u001b[43m)\u001b[49m\n",
      "Cell \u001b[1;32mIn[8], line 6\u001b[0m, in \u001b[0;36mtest_sum_odd_square\u001b[1;34m()\u001b[0m\n\u001b[0;32m      4\u001b[0m items \u001b[38;5;241m=\u001b[39m list_([\u001b[38;5;241m1\u001b[39m, list_([\u001b[38;5;241m2\u001b[39m, list_([\u001b[38;5;241m3\u001b[39m, \u001b[38;5;241m4\u001b[39m]), \u001b[38;5;241m5\u001b[39m]), list_([\u001b[38;5;241m6\u001b[39m, \u001b[38;5;241m7\u001b[39m])])\n\u001b[0;32m      5\u001b[0m expected \u001b[38;5;241m=\u001b[39m \u001b[38;5;28msum\u001b[39m(\u001b[38;5;28mmap\u001b[39m(\u001b[38;5;28;01mlambda\u001b[39;00m x: x \u001b[38;5;241m*\u001b[39m x, [\u001b[38;5;241m1\u001b[39m, \u001b[38;5;241m3\u001b[39m, \u001b[38;5;241m5\u001b[39m, \u001b[38;5;241m7\u001b[39m]))\n\u001b[1;32m----> 6\u001b[0m \u001b[38;5;28;01massert\u001b[39;00m \u001b[43msum_odd_square\u001b[49m(items) \u001b[38;5;241m==\u001b[39m expected\n",
      "\u001b[1;31mNameError\u001b[0m: name 'sum_odd_square' is not defined"
     ]
    }
   ],
   "source": [
    "test_sum_odd_square()"
   ]
  },
  {
   "cell_type": "code",
   "execution_count": 10,
   "metadata": {},
   "outputs": [],
   "source": [
    "from _types import ListPair\n",
    "def sum_odd_square(tree: ListPair):\n",
    "    ..."
   ]
  },
  {
   "cell_type": "code",
   "execution_count": 11,
   "metadata": {},
   "outputs": [
    {
     "ename": "AssertionError",
     "evalue": "",
     "output_type": "error",
     "traceback": [
      "\u001b[1;31m---------------------------------------------------------------------------\u001b[0m",
      "\u001b[1;31mAssertionError\u001b[0m                            Traceback (most recent call last)",
      "Cell \u001b[1;32mIn[11], line 1\u001b[0m\n\u001b[1;32m----> 1\u001b[0m \u001b[43mtest_sum_odd_square\u001b[49m\u001b[43m(\u001b[49m\u001b[43m)\u001b[49m\n",
      "Cell \u001b[1;32mIn[8], line 6\u001b[0m, in \u001b[0;36mtest_sum_odd_square\u001b[1;34m()\u001b[0m\n\u001b[0;32m      4\u001b[0m items \u001b[38;5;241m=\u001b[39m list_([\u001b[38;5;241m1\u001b[39m, list_([\u001b[38;5;241m2\u001b[39m, list_([\u001b[38;5;241m3\u001b[39m, \u001b[38;5;241m4\u001b[39m]), \u001b[38;5;241m5\u001b[39m]), list_([\u001b[38;5;241m6\u001b[39m, \u001b[38;5;241m7\u001b[39m])])\n\u001b[0;32m      5\u001b[0m expected \u001b[38;5;241m=\u001b[39m \u001b[38;5;28msum\u001b[39m(\u001b[38;5;28mmap\u001b[39m(\u001b[38;5;28;01mlambda\u001b[39;00m x: x \u001b[38;5;241m*\u001b[39m x, [\u001b[38;5;241m1\u001b[39m, \u001b[38;5;241m3\u001b[39m, \u001b[38;5;241m5\u001b[39m, \u001b[38;5;241m7\u001b[39m]))\n\u001b[1;32m----> 6\u001b[0m \u001b[38;5;28;01massert\u001b[39;00m sum_odd_square(items) \u001b[38;5;241m==\u001b[39m expected\n",
      "\u001b[1;31mAssertionError\u001b[0m: "
     ]
    }
   ],
   "source": [
    "test_sum_odd_square()"
   ]
  },
  {
   "cell_type": "code",
   "execution_count": 12,
   "metadata": {},
   "outputs": [],
   "source": [
    "from _types import ListPair\n",
    "from pair import is_none, is_pair, cdr, car\n",
    "\n",
    "\n",
    "def square(x: int) -> int:\n",
    "    return x * x\n",
    "\n",
    "\n",
    "def is_odd(x: int) -> bool:\n",
    "    return x % 2 != 0\n",
    "\n",
    "\n",
    "def sum_odd_square(tree: ListPair):\n",
    "    if is_none(tree):\n",
    "        return 0\n",
    "    elif not is_pair(tree):\n",
    "        if is_odd(tree):\n",
    "            return square(tree)\n",
    "        return 0\n",
    "    else:\n",
    "        return sum_odd_square(car(tree)) + sum_odd_square(cdr(tree))"
   ]
  },
  {
   "cell_type": "code",
   "execution_count": 13,
   "metadata": {},
   "outputs": [],
   "source": [
    "test_sum_odd_square()"
   ]
  },
  {
   "cell_type": "code",
   "execution_count": 14,
   "metadata": {},
   "outputs": [],
   "source": [
    "from utils import fib\n",
    "from pair import is_equal_tree\n",
    "\n",
    "def test_even_fibs():\n",
    "    \"\"\"Тест функции, которая возвращает список cons всех четных чисел Фибоначчи fib(k), где k меньше или равно n.\"\"\"\n",
    "    expected = list_([0, 2, 8, 34])\n",
    "    assert is_equal_tree(even_fibs(10), expected)\n"
   ]
  },
  {
   "cell_type": "code",
   "execution_count": 15,
   "metadata": {},
   "outputs": [
    {
     "ename": "NameError",
     "evalue": "name 'accumulate' is not defined",
     "output_type": "error",
     "traceback": [
      "\u001b[1;31m---------------------------------------------------------------------------\u001b[0m",
      "\u001b[1;31mNameError\u001b[0m                                 Traceback (most recent call last)",
      "Cell \u001b[1;32mIn[15], line 1\u001b[0m\n\u001b[1;32m----> 1\u001b[0m \u001b[43mtest_even_fibs\u001b[49m\u001b[43m(\u001b[49m\u001b[43m)\u001b[49m\n",
      "Cell \u001b[1;32mIn[14], line 7\u001b[0m, in \u001b[0;36mtest_even_fibs\u001b[1;34m()\u001b[0m\n\u001b[0;32m      5\u001b[0m \u001b[38;5;250m\u001b[39m\u001b[38;5;124;03m\"\"\"Тест функции, которая возвращает список cons всех четных чисел Фибоначчи fib(k), где k меньше или равно n.\"\"\"\u001b[39;00m\n\u001b[0;32m      6\u001b[0m expected \u001b[38;5;241m=\u001b[39m list_([\u001b[38;5;241m0\u001b[39m, \u001b[38;5;241m2\u001b[39m, \u001b[38;5;241m8\u001b[39m, \u001b[38;5;241m34\u001b[39m])\n\u001b[1;32m----> 7\u001b[0m \u001b[38;5;28;01massert\u001b[39;00m is_equal_tree(\u001b[43meven_fibs\u001b[49m\u001b[43m(\u001b[49m\u001b[38;5;241;43m10\u001b[39;49m\u001b[43m)\u001b[49m, expected)\n",
      "Cell \u001b[1;32mIn[3], line 4\u001b[0m, in \u001b[0;36meven_fibs\u001b[1;34m(n)\u001b[0m\n\u001b[0;32m      3\u001b[0m \u001b[38;5;28;01mdef\u001b[39;00m \u001b[38;5;21meven_fibs\u001b[39m(n):\n\u001b[1;32m----> 4\u001b[0m     \u001b[38;5;28;01mreturn\u001b[39;00m \u001b[43maccumulate\u001b[49m(cons,\n\u001b[0;32m      5\u001b[0m                       \u001b[38;5;28;01mNone\u001b[39;00m,\n\u001b[0;32m      6\u001b[0m                       filter_(is_even,\n\u001b[0;32m      7\u001b[0m                               map_(fib,\n\u001b[0;32m      8\u001b[0m                                    (enumerate_interval(\u001b[38;5;241m0\u001b[39m, n)))))\n",
      "\u001b[1;31mNameError\u001b[0m: name 'accumulate' is not defined"
     ]
    }
   ],
   "source": [
    "test_even_fibs()\n"
   ]
  },
  {
   "cell_type": "code",
   "execution_count": 16,
   "metadata": {},
   "outputs": [],
   "source": [
    "def even_fibs(n):\n",
    "    ..."
   ]
  },
  {
   "cell_type": "code",
   "execution_count": 17,
   "metadata": {},
   "outputs": [
    {
     "ename": "AssertionError",
     "evalue": "",
     "output_type": "error",
     "traceback": [
      "\u001b[1;31m---------------------------------------------------------------------------\u001b[0m",
      "\u001b[1;31mAssertionError\u001b[0m                            Traceback (most recent call last)",
      "Cell \u001b[1;32mIn[17], line 1\u001b[0m\n\u001b[1;32m----> 1\u001b[0m \u001b[43mtest_even_fibs\u001b[49m\u001b[43m(\u001b[49m\u001b[43m)\u001b[49m\n",
      "Cell \u001b[1;32mIn[14], line 7\u001b[0m, in \u001b[0;36mtest_even_fibs\u001b[1;34m()\u001b[0m\n\u001b[0;32m      5\u001b[0m \u001b[38;5;250m\u001b[39m\u001b[38;5;124;03m\"\"\"Тест функции, которая возвращает список cons всех четных чисел Фибоначчи fib(k), где k меньше или равно n.\"\"\"\u001b[39;00m\n\u001b[0;32m      6\u001b[0m expected \u001b[38;5;241m=\u001b[39m list_([\u001b[38;5;241m0\u001b[39m, \u001b[38;5;241m2\u001b[39m, \u001b[38;5;241m8\u001b[39m, \u001b[38;5;241m34\u001b[39m])\n\u001b[1;32m----> 7\u001b[0m \u001b[38;5;28;01massert\u001b[39;00m is_equal_tree(even_fibs(\u001b[38;5;241m10\u001b[39m), expected)\n",
      "\u001b[1;31mAssertionError\u001b[0m: "
     ]
    }
   ],
   "source": [
    "test_even_fibs()"
   ]
  },
  {
   "cell_type": "code",
   "execution_count": 18,
   "metadata": {},
   "outputs": [],
   "source": [
    "from pair import cons\n",
    "\n",
    "def is_even(x: int):\n",
    "    return x % 2  == 0\n",
    "\n",
    "def even_fibs(n: int):\n",
    "    def next_(k: int):\n",
    "        if k > n:\n",
    "            return None\n",
    "        f = fib(k)\n",
    "        if is_even(f):\n",
    "            return cons(f, next_(k + 1))\n",
    "        return next_(k + 1)\n",
    "    return next_(0)"
   ]
  },
  {
   "cell_type": "code",
   "execution_count": 19,
   "metadata": {},
   "outputs": [],
   "source": [
    "test_even_fibs()"
   ]
  },
  {
   "cell_type": "markdown",
   "metadata": {},
   "source": [
    "Сконцентрирую внимание на передаче сигналов. Выделяют три процесса. Отображение, фильтр и аккумулирование. Представим ввиде обработки последовательности. Сперва получаем данные, затем фитьтруем, а потом аккумулируем.\n"
   ]
  },
  {
   "cell_type": "markdown",
   "metadata": {},
   "source": [
    "Сделаю отображение. Это применение функции к каждому элементу последовательности"
   ]
  },
  {
   "cell_type": "code",
   "execution_count": 20,
   "metadata": {},
   "outputs": [],
   "source": [
    "from pair import map_, list_, scale_list, is_equal_tree, square\n",
    "\n",
    "def test_map_square():\n",
    "    l = list_([1, 2, 3, 4, 5])\n",
    "    expected = list_([1, 4, 9, 16, 25])\n",
    "    assert is_equal_tree(map_(square, l), expected)\n"
   ]
  },
  {
   "cell_type": "code",
   "execution_count": 21,
   "metadata": {},
   "outputs": [],
   "source": [
    "test_map_square()"
   ]
  },
  {
   "cell_type": "markdown",
   "metadata": {},
   "source": [
    "Отображение готово. Сейчас сделаю функцию фильтрации"
   ]
  },
  {
   "cell_type": "code",
   "execution_count": 22,
   "metadata": {},
   "outputs": [],
   "source": [
    "from pair import is_odd, list_, is_equal_tree\n",
    "\n",
    "def test_filter_():\n",
    "    l = list_([1, 2, 3, 4, 5])\n",
    "    expected = list_([1, 3, 5])\n",
    "    assert is_equal_tree(filter_(is_odd, l), expected)"
   ]
  },
  {
   "cell_type": "code",
   "execution_count": 23,
   "metadata": {},
   "outputs": [
    {
     "ename": "NameError",
     "evalue": "name 'filter_' is not defined",
     "output_type": "error",
     "traceback": [
      "\u001b[1;31m---------------------------------------------------------------------------\u001b[0m",
      "\u001b[1;31mNameError\u001b[0m                                 Traceback (most recent call last)",
      "Cell \u001b[1;32mIn[23], line 1\u001b[0m\n\u001b[1;32m----> 1\u001b[0m \u001b[43mtest_filter_\u001b[49m\u001b[43m(\u001b[49m\u001b[43m)\u001b[49m\n",
      "Cell \u001b[1;32mIn[22], line 6\u001b[0m, in \u001b[0;36mtest_filter_\u001b[1;34m()\u001b[0m\n\u001b[0;32m      4\u001b[0m l \u001b[38;5;241m=\u001b[39m list_([\u001b[38;5;241m1\u001b[39m, \u001b[38;5;241m2\u001b[39m, \u001b[38;5;241m3\u001b[39m, \u001b[38;5;241m4\u001b[39m, \u001b[38;5;241m5\u001b[39m])\n\u001b[0;32m      5\u001b[0m expected \u001b[38;5;241m=\u001b[39m list_([\u001b[38;5;241m1\u001b[39m, \u001b[38;5;241m3\u001b[39m, \u001b[38;5;241m5\u001b[39m])\n\u001b[1;32m----> 6\u001b[0m \u001b[38;5;28;01massert\u001b[39;00m is_equal_tree(\u001b[43mfilter_\u001b[49m(is_odd, l), expected)\n",
      "\u001b[1;31mNameError\u001b[0m: name 'filter_' is not defined"
     ]
    }
   ],
   "source": [
    "test_filter_()"
   ]
  },
  {
   "cell_type": "code",
   "execution_count": 70,
   "metadata": {},
   "outputs": [],
   "source": [
    "from typing import Callable\n",
    "from pair import is_none, car, cdr, cons\n",
    "from _types import ListPair\n",
    "\n",
    "def filter_(predicat: Callable, sequence: ListPair) -> ListPair:\n",
    "    if is_none(sequence):\n",
    "        return None\n",
    "    elif predicat(car(sequence)):\n",
    "        return cons(car(sequence), filter_(predicat, cdr(sequence)))\n",
    "    return filter_(predicat, cdr(sequence))"
   ]
  },
  {
   "cell_type": "code",
   "execution_count": 71,
   "metadata": {},
   "outputs": [],
   "source": [
    "test_filter_()"
   ]
  },
  {
   "cell_type": "markdown",
   "metadata": {},
   "source": [
    "Фильтрация готова. Далее сделаю функцию аккумулирования"
   ]
  },
  {
   "cell_type": "code",
   "execution_count": 72,
   "metadata": {},
   "outputs": [],
   "source": [
    "import operator\n",
    "\n",
    "def test_accumulate():\n",
    "    l = list_([1, 2, 3, 4, 5])\n",
    "    expected = 15\n",
    "    assert is_equal_tree(accumulate(operator.add, 0, l), expected)"
   ]
  },
  {
   "cell_type": "code",
   "execution_count": 73,
   "metadata": {},
   "outputs": [],
   "source": [
    "test_accumulate()"
   ]
  },
  {
   "cell_type": "code",
   "execution_count": 74,
   "metadata": {},
   "outputs": [],
   "source": [
    "def accumulate():..."
   ]
  },
  {
   "cell_type": "code",
   "execution_count": 75,
   "metadata": {},
   "outputs": [
    {
     "ename": "TypeError",
     "evalue": "accumulate() takes 0 positional arguments but 3 were given",
     "output_type": "error",
     "traceback": [
      "\u001b[1;31m---------------------------------------------------------------------------\u001b[0m",
      "\u001b[1;31mTypeError\u001b[0m                                 Traceback (most recent call last)",
      "Cell \u001b[1;32mIn[75], line 1\u001b[0m\n\u001b[1;32m----> 1\u001b[0m \u001b[43mtest_accumulate\u001b[49m\u001b[43m(\u001b[49m\u001b[43m)\u001b[49m\n",
      "Cell \u001b[1;32mIn[72], line 6\u001b[0m, in \u001b[0;36mtest_accumulate\u001b[1;34m()\u001b[0m\n\u001b[0;32m      4\u001b[0m l \u001b[38;5;241m=\u001b[39m list_([\u001b[38;5;241m1\u001b[39m, \u001b[38;5;241m2\u001b[39m, \u001b[38;5;241m3\u001b[39m, \u001b[38;5;241m4\u001b[39m, \u001b[38;5;241m5\u001b[39m])\n\u001b[0;32m      5\u001b[0m expected \u001b[38;5;241m=\u001b[39m \u001b[38;5;241m15\u001b[39m\n\u001b[1;32m----> 6\u001b[0m \u001b[38;5;28;01massert\u001b[39;00m is_equal_tree(\u001b[43maccumulate\u001b[49m\u001b[43m(\u001b[49m\u001b[43moperator\u001b[49m\u001b[38;5;241;43m.\u001b[39;49m\u001b[43madd\u001b[49m\u001b[43m,\u001b[49m\u001b[43m \u001b[49m\u001b[38;5;241;43m0\u001b[39;49m\u001b[43m,\u001b[49m\u001b[43m \u001b[49m\u001b[43ml\u001b[49m\u001b[43m)\u001b[49m, expected)\n",
      "\u001b[1;31mTypeError\u001b[0m: accumulate() takes 0 positional arguments but 3 were given"
     ]
    }
   ],
   "source": [
    "test_accumulate()"
   ]
  },
  {
   "cell_type": "code",
   "execution_count": 76,
   "metadata": {},
   "outputs": [],
   "source": [
    "from typing import Any\n",
    "\n",
    "def accumulate(op: Callable, initial: int, sequence: ListPair) -> Any:\n",
    "    ..."
   ]
  },
  {
   "cell_type": "code",
   "execution_count": 77,
   "metadata": {},
   "outputs": [
    {
     "ename": "AssertionError",
     "evalue": "",
     "output_type": "error",
     "traceback": [
      "\u001b[1;31m---------------------------------------------------------------------------\u001b[0m",
      "\u001b[1;31mAssertionError\u001b[0m                            Traceback (most recent call last)",
      "Cell \u001b[1;32mIn[77], line 1\u001b[0m\n\u001b[1;32m----> 1\u001b[0m \u001b[43mtest_accumulate\u001b[49m\u001b[43m(\u001b[49m\u001b[43m)\u001b[49m\n",
      "Cell \u001b[1;32mIn[72], line 6\u001b[0m, in \u001b[0;36mtest_accumulate\u001b[1;34m()\u001b[0m\n\u001b[0;32m      4\u001b[0m l \u001b[38;5;241m=\u001b[39m list_([\u001b[38;5;241m1\u001b[39m, \u001b[38;5;241m2\u001b[39m, \u001b[38;5;241m3\u001b[39m, \u001b[38;5;241m4\u001b[39m, \u001b[38;5;241m5\u001b[39m])\n\u001b[0;32m      5\u001b[0m expected \u001b[38;5;241m=\u001b[39m \u001b[38;5;241m15\u001b[39m\n\u001b[1;32m----> 6\u001b[0m \u001b[38;5;28;01massert\u001b[39;00m is_equal_tree(accumulate(operator\u001b[38;5;241m.\u001b[39madd, \u001b[38;5;241m0\u001b[39m, l), expected)\n",
      "\u001b[1;31mAssertionError\u001b[0m: "
     ]
    }
   ],
   "source": [
    "test_accumulate()"
   ]
  },
  {
   "cell_type": "code",
   "execution_count": 78,
   "metadata": {},
   "outputs": [],
   "source": [
    "from typing import Any, Callable\n",
    "from _types import ListPair\n",
    "\n",
    "def accumulate(op: Callable, initial: int, sequence: ListPair) -> Any:\n",
    "    if is_none(sequence):\n",
    "        return initial\n",
    "    return op(car(sequence), accumulate(op, initial, cdr(sequence)))"
   ]
  },
  {
   "cell_type": "code",
   "execution_count": 79,
   "metadata": {},
   "outputs": [],
   "source": [
    "test_accumulate()"
   ]
  },
  {
   "cell_type": "code",
   "execution_count": 80,
   "metadata": {},
   "outputs": [],
   "source": [
    "import operator\n",
    "\n",
    "def test_accumulate__when_op_is_mul():\n",
    "    l = list_([1, 2, 3, 4, 5])\n",
    "    expected = 120\n",
    "    assert is_equal_tree(accumulate(operator.mul, 1, l), expected)\n",
    "    assert not is_equal_tree(accumulate(operator.mul, 1, l), 121)"
   ]
  },
  {
   "cell_type": "code",
   "execution_count": 81,
   "metadata": {},
   "outputs": [],
   "source": [
    "test_accumulate__when_op_is_mul()"
   ]
  },
  {
   "cell_type": "code",
   "execution_count": 82,
   "metadata": {},
   "outputs": [],
   "source": [
    "from pair import cons\n",
    "\n",
    "def test_accumulate__when_op_is_cons():\n",
    "    l = list_([1, 2, 3, 4, 5])\n",
    "    expected = list_([1, 2, 3, 4, 5])\n",
    "    assert is_equal_tree(accumulate(cons, None, l), expected)"
   ]
  },
  {
   "cell_type": "code",
   "execution_count": 83,
   "metadata": {},
   "outputs": [],
   "source": [
    "test_accumulate__when_op_is_cons()"
   ]
  },
  {
   "cell_type": "markdown",
   "metadata": {},
   "source": [
    "Функция аккумулирования готова. Теперь осталось только написать функцию получения последовательности."
   ]
  },
  {
   "cell_type": "code",
   "execution_count": 84,
   "metadata": {},
   "outputs": [],
   "source": [
    "def test_enumerate_interval():\n",
    "    low = 2\n",
    "    high = 7\n",
    "    expected = list_([2, 3, 4, 5, 6, 7])\n",
    "    assert is_equal_tree(enumerate_interval(low, high), expected)"
   ]
  },
  {
   "cell_type": "code",
   "execution_count": 85,
   "metadata": {},
   "outputs": [],
   "source": [
    "test_enumerate_interval()"
   ]
  },
  {
   "cell_type": "code",
   "execution_count": 86,
   "metadata": {},
   "outputs": [],
   "source": [
    "def enumerate_interval(low: int, high: int) -> ListPair:\n",
    "    ..."
   ]
  },
  {
   "cell_type": "code",
   "execution_count": 87,
   "metadata": {},
   "outputs": [
    {
     "ename": "AssertionError",
     "evalue": "",
     "output_type": "error",
     "traceback": [
      "\u001b[1;31m---------------------------------------------------------------------------\u001b[0m",
      "\u001b[1;31mAssertionError\u001b[0m                            Traceback (most recent call last)",
      "Cell \u001b[1;32mIn[87], line 1\u001b[0m\n\u001b[1;32m----> 1\u001b[0m \u001b[43mtest_enumerate_interval\u001b[49m\u001b[43m(\u001b[49m\u001b[43m)\u001b[49m\n",
      "Cell \u001b[1;32mIn[84], line 5\u001b[0m, in \u001b[0;36mtest_enumerate_interval\u001b[1;34m()\u001b[0m\n\u001b[0;32m      3\u001b[0m high \u001b[38;5;241m=\u001b[39m \u001b[38;5;241m7\u001b[39m\n\u001b[0;32m      4\u001b[0m expected \u001b[38;5;241m=\u001b[39m list_([\u001b[38;5;241m2\u001b[39m, \u001b[38;5;241m3\u001b[39m, \u001b[38;5;241m4\u001b[39m, \u001b[38;5;241m5\u001b[39m, \u001b[38;5;241m6\u001b[39m, \u001b[38;5;241m7\u001b[39m])\n\u001b[1;32m----> 5\u001b[0m \u001b[38;5;28;01massert\u001b[39;00m is_equal_tree(enumerate_interval(low, high), expected)\n",
      "\u001b[1;31mAssertionError\u001b[0m: "
     ]
    }
   ],
   "source": [
    "test_enumerate_interval()"
   ]
  },
  {
   "cell_type": "code",
   "execution_count": 88,
   "metadata": {},
   "outputs": [],
   "source": [
    "def enumerate_interval(low: int, high: int) -> ListPair:\n",
    "    if low > high:\n",
    "        return None\n",
    "    return cons(low, enumerate_interval(low + 1, high))"
   ]
  },
  {
   "cell_type": "code",
   "execution_count": 89,
   "metadata": {},
   "outputs": [],
   "source": [
    "test_enumerate_interval()"
   ]
  },
  {
   "cell_type": "markdown",
   "metadata": {},
   "source": [
    "Реализовал получение последовательности. Теперь реализовать получение последовательности для дерева."
   ]
  },
  {
   "cell_type": "code",
   "execution_count": 90,
   "metadata": {},
   "outputs": [],
   "source": [
    "def test_enumerate_tree():\n",
    "    l = list_([1, list_([2, list_([3, 4])]), 5])\n",
    "    expected = list_([1, 2, 3, 4, 5])\n",
    "    assert is_equal_tree(enumerate_tree(l), expected)"
   ]
  },
  {
   "cell_type": "code",
   "execution_count": 91,
   "metadata": {},
   "outputs": [],
   "source": [
    "test_enumerate_tree()"
   ]
  },
  {
   "cell_type": "code",
   "execution_count": 92,
   "metadata": {},
   "outputs": [],
   "source": [
    "from pair import is_none, is_pair, append\n",
    "\n",
    "def enumerate_tree(tree: ListPair):\n",
    "    if is_none(tree):\n",
    "        return None\n",
    "    elif not is_pair(tree):\n",
    "        return list_([tree])\n",
    "    return append(enumerate_tree(car(tree)), enumerate_tree(cdr(tree)))"
   ]
  },
  {
   "cell_type": "code",
   "execution_count": 93,
   "metadata": {},
   "outputs": [],
   "source": [
    "test_enumerate_tree()"
   ]
  },
  {
   "cell_type": "markdown",
   "metadata": {},
   "source": [
    "Теперь все готово чтобы переформулировать функции"
   ]
  },
  {
   "cell_type": "code",
   "execution_count": 94,
   "metadata": {},
   "outputs": [],
   "source": [
    "def sum_odd_square(tree: ListPair):\n",
    "    return accumulate(operator.add,\n",
    "                      0,\n",
    "                      (map_(square,\n",
    "                            filter_(is_odd,\n",
    "                                    enumerate_tree(tree)))))"
   ]
  },
  {
   "cell_type": "code",
   "execution_count": 95,
   "metadata": {},
   "outputs": [],
   "source": [
    "test_sum_odd_square()"
   ]
  },
  {
   "cell_type": "code",
   "execution_count": 65,
   "metadata": {},
   "outputs": [],
   "source": [
    "from utils import fib\n",
    "from pair import is_equal_tree, list_, is_equal_tree\n",
    "\n",
    "def test_even_fibs():\n",
    "    \"\"\"Тест функции, которая возвращает список cons всех четных чисел Фибоначчи fib(k), где k меньше или равно n.\"\"\"\n",
    "    expected = list_([0, 2, 8, 34])\n",
    "    assert is_equal_tree(even_fibs(10), expected)"
   ]
  },
  {
   "cell_type": "code",
   "execution_count": 66,
   "metadata": {},
   "outputs": [],
   "source": [
    "from pair import is_even\n",
    "\n",
    "def even_fibs(n):\n",
    "    return accumulate(cons,\n",
    "                      None,\n",
    "                      filter_(is_even,\n",
    "                              map_(fib,\n",
    "                                   (enumerate_interval(0, n)))))"
   ]
  },
  {
   "cell_type": "code",
   "execution_count": 96,
   "metadata": {},
   "outputs": [],
   "source": [
    "test_even_fibs()"
   ]
  }
 ],
 "metadata": {
  "kernelspec": {
   "display_name": "Python 3",
   "language": "python",
   "name": "python3"
  },
  "language_info": {
   "codemirror_mode": {
    "name": "ipython",
    "version": 3
   },
   "file_extension": ".py",
   "mimetype": "text/x-python",
   "name": "python",
   "nbconvert_exporter": "python",
   "pygments_lexer": "ipython3",
   "version": "3.12.4"
  }
 },
 "nbformat": 4,
 "nbformat_minor": 2
}
