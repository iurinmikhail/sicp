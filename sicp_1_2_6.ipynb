{
 "cells": [
  {
   "cell_type": "markdown",
   "metadata": {},
   "source": []
  },
  {
   "cell_type": "code",
   "execution_count": 1,
   "metadata": {},
   "outputs": [],
   "source": [
    "def test_is_prime():\n",
    "    primes = ((2, True), (3, True), (4, False), (5, True), (6, False), (7, True), (8, False), (9, False), (10, False), (11, True))\n",
    "    for i in primes:\n",
    "        assert is_prime(i[0]) is i[1]\n"
   ]
  },
  {
   "cell_type": "code",
   "execution_count": 2,
   "metadata": {},
   "outputs": [
    {
     "ename": "NameError",
     "evalue": "name 'is_prime' is not defined",
     "output_type": "error",
     "traceback": [
      "\u001b[1;31m---------------------------------------------------------------------------\u001b[0m",
      "\u001b[1;31mNameError\u001b[0m                                 Traceback (most recent call last)",
      "Cell \u001b[1;32mIn[2], line 1\u001b[0m\n\u001b[1;32m----> 1\u001b[0m \u001b[43mtest_is_prime\u001b[49m\u001b[43m(\u001b[49m\u001b[43m)\u001b[49m\n",
      "Cell \u001b[1;32mIn[1], line 4\u001b[0m, in \u001b[0;36mtest_is_prime\u001b[1;34m()\u001b[0m\n\u001b[0;32m      2\u001b[0m primes \u001b[38;5;241m=\u001b[39m ((\u001b[38;5;241m2\u001b[39m, \u001b[38;5;28;01mTrue\u001b[39;00m), (\u001b[38;5;241m3\u001b[39m, \u001b[38;5;28;01mTrue\u001b[39;00m), (\u001b[38;5;241m4\u001b[39m, \u001b[38;5;28;01mFalse\u001b[39;00m), (\u001b[38;5;241m5\u001b[39m, \u001b[38;5;28;01mTrue\u001b[39;00m), (\u001b[38;5;241m6\u001b[39m, \u001b[38;5;28;01mFalse\u001b[39;00m), (\u001b[38;5;241m7\u001b[39m, \u001b[38;5;28;01mTrue\u001b[39;00m), (\u001b[38;5;241m8\u001b[39m, \u001b[38;5;28;01mFalse\u001b[39;00m), (\u001b[38;5;241m9\u001b[39m, \u001b[38;5;28;01mFalse\u001b[39;00m), (\u001b[38;5;241m10\u001b[39m, \u001b[38;5;28;01mFalse\u001b[39;00m), (\u001b[38;5;241m11\u001b[39m, \u001b[38;5;28;01mTrue\u001b[39;00m))\n\u001b[0;32m      3\u001b[0m \u001b[38;5;28;01mfor\u001b[39;00m i \u001b[38;5;129;01min\u001b[39;00m primes:\n\u001b[1;32m----> 4\u001b[0m     \u001b[38;5;28;01massert\u001b[39;00m \u001b[43mis_prime\u001b[49m(i[\u001b[38;5;241m0\u001b[39m]) \u001b[38;5;129;01mis\u001b[39;00m i[\u001b[38;5;241m1\u001b[39m]\n",
      "\u001b[1;31mNameError\u001b[0m: name 'is_prime' is not defined"
     ]
    }
   ],
   "source": [
    "test_is_prime()"
   ]
  },
  {
   "cell_type": "code",
   "execution_count": 3,
   "metadata": {},
   "outputs": [],
   "source": [
    "def is_prime(): ...\n"
   ]
  },
  {
   "cell_type": "code",
   "execution_count": 4,
   "metadata": {},
   "outputs": [
    {
     "ename": "TypeError",
     "evalue": "is_prime() takes 0 positional arguments but 1 was given",
     "output_type": "error",
     "traceback": [
      "\u001b[1;31m---------------------------------------------------------------------------\u001b[0m",
      "\u001b[1;31mTypeError\u001b[0m                                 Traceback (most recent call last)",
      "Cell \u001b[1;32mIn[4], line 1\u001b[0m\n\u001b[1;32m----> 1\u001b[0m \u001b[43mtest_is_prime\u001b[49m\u001b[43m(\u001b[49m\u001b[43m)\u001b[49m\n",
      "Cell \u001b[1;32mIn[1], line 4\u001b[0m, in \u001b[0;36mtest_is_prime\u001b[1;34m()\u001b[0m\n\u001b[0;32m      2\u001b[0m primes \u001b[38;5;241m=\u001b[39m ((\u001b[38;5;241m2\u001b[39m, \u001b[38;5;28;01mTrue\u001b[39;00m), (\u001b[38;5;241m3\u001b[39m, \u001b[38;5;28;01mTrue\u001b[39;00m), (\u001b[38;5;241m4\u001b[39m, \u001b[38;5;28;01mFalse\u001b[39;00m), (\u001b[38;5;241m5\u001b[39m, \u001b[38;5;28;01mTrue\u001b[39;00m), (\u001b[38;5;241m6\u001b[39m, \u001b[38;5;28;01mFalse\u001b[39;00m), (\u001b[38;5;241m7\u001b[39m, \u001b[38;5;28;01mTrue\u001b[39;00m), (\u001b[38;5;241m8\u001b[39m, \u001b[38;5;28;01mFalse\u001b[39;00m), (\u001b[38;5;241m9\u001b[39m, \u001b[38;5;28;01mFalse\u001b[39;00m), (\u001b[38;5;241m10\u001b[39m, \u001b[38;5;28;01mFalse\u001b[39;00m), (\u001b[38;5;241m11\u001b[39m, \u001b[38;5;28;01mTrue\u001b[39;00m))\n\u001b[0;32m      3\u001b[0m \u001b[38;5;28;01mfor\u001b[39;00m i \u001b[38;5;129;01min\u001b[39;00m primes:\n\u001b[1;32m----> 4\u001b[0m     \u001b[38;5;28;01massert\u001b[39;00m \u001b[43mis_prime\u001b[49m\u001b[43m(\u001b[49m\u001b[43mi\u001b[49m\u001b[43m[\u001b[49m\u001b[38;5;241;43m0\u001b[39;49m\u001b[43m]\u001b[49m\u001b[43m)\u001b[49m \u001b[38;5;129;01mis\u001b[39;00m i[\u001b[38;5;241m1\u001b[39m]\n",
      "\u001b[1;31mTypeError\u001b[0m: is_prime() takes 0 positional arguments but 1 was given"
     ]
    }
   ],
   "source": [
    "test_is_prime()"
   ]
  },
  {
   "cell_type": "code",
   "execution_count": 5,
   "metadata": {},
   "outputs": [],
   "source": [
    "def is_prime(n): ..."
   ]
  },
  {
   "cell_type": "code",
   "execution_count": 6,
   "metadata": {},
   "outputs": [
    {
     "ename": "AssertionError",
     "evalue": "",
     "output_type": "error",
     "traceback": [
      "\u001b[1;31m---------------------------------------------------------------------------\u001b[0m",
      "\u001b[1;31mAssertionError\u001b[0m                            Traceback (most recent call last)",
      "Cell \u001b[1;32mIn[6], line 1\u001b[0m\n\u001b[1;32m----> 1\u001b[0m \u001b[43mtest_is_prime\u001b[49m\u001b[43m(\u001b[49m\u001b[43m)\u001b[49m\n",
      "Cell \u001b[1;32mIn[1], line 4\u001b[0m, in \u001b[0;36mtest_is_prime\u001b[1;34m()\u001b[0m\n\u001b[0;32m      2\u001b[0m primes \u001b[38;5;241m=\u001b[39m ((\u001b[38;5;241m2\u001b[39m, \u001b[38;5;28;01mTrue\u001b[39;00m), (\u001b[38;5;241m3\u001b[39m, \u001b[38;5;28;01mTrue\u001b[39;00m), (\u001b[38;5;241m4\u001b[39m, \u001b[38;5;28;01mFalse\u001b[39;00m), (\u001b[38;5;241m5\u001b[39m, \u001b[38;5;28;01mTrue\u001b[39;00m), (\u001b[38;5;241m6\u001b[39m, \u001b[38;5;28;01mFalse\u001b[39;00m), (\u001b[38;5;241m7\u001b[39m, \u001b[38;5;28;01mTrue\u001b[39;00m), (\u001b[38;5;241m8\u001b[39m, \u001b[38;5;28;01mFalse\u001b[39;00m), (\u001b[38;5;241m9\u001b[39m, \u001b[38;5;28;01mFalse\u001b[39;00m), (\u001b[38;5;241m10\u001b[39m, \u001b[38;5;28;01mFalse\u001b[39;00m), (\u001b[38;5;241m11\u001b[39m, \u001b[38;5;28;01mTrue\u001b[39;00m))\n\u001b[0;32m      3\u001b[0m \u001b[38;5;28;01mfor\u001b[39;00m i \u001b[38;5;129;01min\u001b[39;00m primes:\n\u001b[1;32m----> 4\u001b[0m     \u001b[38;5;28;01massert\u001b[39;00m is_prime(i[\u001b[38;5;241m0\u001b[39m]) \u001b[38;5;129;01mis\u001b[39;00m i[\u001b[38;5;241m1\u001b[39m]\n",
      "\u001b[1;31mAssertionError\u001b[0m: "
     ]
    }
   ],
   "source": [
    "test_is_prime()"
   ]
  },
  {
   "cell_type": "code",
   "execution_count": 7,
   "metadata": {},
   "outputs": [],
   "source": [
    "def is_prime(n):\n",
    "    primes = ((1, False), (2, True), (3, True), (4, False), (5, True), (6, False), (7, True), (8, False), (9, False), (10, False), (11, True))\n",
    "    for i in primes:\n",
    "        if n == i[0]:\n",
    "            return i[1]\n",
    "\n",
    "    return False"
   ]
  },
  {
   "cell_type": "code",
   "execution_count": 8,
   "metadata": {},
   "outputs": [],
   "source": [
    "test_is_prime()"
   ]
  },
  {
   "cell_type": "code",
   "execution_count": 9,
   "metadata": {},
   "outputs": [],
   "source": [
    "def is_prime(n):\n",
    "    return n == smallest_devisor(n)"
   ]
  },
  {
   "cell_type": "code",
   "execution_count": 10,
   "metadata": {},
   "outputs": [
    {
     "ename": "NameError",
     "evalue": "name 'smallest_devisor' is not defined",
     "output_type": "error",
     "traceback": [
      "\u001b[1;31m---------------------------------------------------------------------------\u001b[0m",
      "\u001b[1;31mNameError\u001b[0m                                 Traceback (most recent call last)",
      "Cell \u001b[1;32mIn[10], line 1\u001b[0m\n\u001b[1;32m----> 1\u001b[0m \u001b[43mtest_is_prime\u001b[49m\u001b[43m(\u001b[49m\u001b[43m)\u001b[49m\n",
      "Cell \u001b[1;32mIn[1], line 4\u001b[0m, in \u001b[0;36mtest_is_prime\u001b[1;34m()\u001b[0m\n\u001b[0;32m      2\u001b[0m primes \u001b[38;5;241m=\u001b[39m ((\u001b[38;5;241m2\u001b[39m, \u001b[38;5;28;01mTrue\u001b[39;00m), (\u001b[38;5;241m3\u001b[39m, \u001b[38;5;28;01mTrue\u001b[39;00m), (\u001b[38;5;241m4\u001b[39m, \u001b[38;5;28;01mFalse\u001b[39;00m), (\u001b[38;5;241m5\u001b[39m, \u001b[38;5;28;01mTrue\u001b[39;00m), (\u001b[38;5;241m6\u001b[39m, \u001b[38;5;28;01mFalse\u001b[39;00m), (\u001b[38;5;241m7\u001b[39m, \u001b[38;5;28;01mTrue\u001b[39;00m), (\u001b[38;5;241m8\u001b[39m, \u001b[38;5;28;01mFalse\u001b[39;00m), (\u001b[38;5;241m9\u001b[39m, \u001b[38;5;28;01mFalse\u001b[39;00m), (\u001b[38;5;241m10\u001b[39m, \u001b[38;5;28;01mFalse\u001b[39;00m), (\u001b[38;5;241m11\u001b[39m, \u001b[38;5;28;01mTrue\u001b[39;00m))\n\u001b[0;32m      3\u001b[0m \u001b[38;5;28;01mfor\u001b[39;00m i \u001b[38;5;129;01min\u001b[39;00m primes:\n\u001b[1;32m----> 4\u001b[0m     \u001b[38;5;28;01massert\u001b[39;00m \u001b[43mis_prime\u001b[49m\u001b[43m(\u001b[49m\u001b[43mi\u001b[49m\u001b[43m[\u001b[49m\u001b[38;5;241;43m0\u001b[39;49m\u001b[43m]\u001b[49m\u001b[43m)\u001b[49m \u001b[38;5;129;01mis\u001b[39;00m i[\u001b[38;5;241m1\u001b[39m]\n",
      "Cell \u001b[1;32mIn[9], line 2\u001b[0m, in \u001b[0;36mis_prime\u001b[1;34m(n)\u001b[0m\n\u001b[0;32m      1\u001b[0m \u001b[38;5;28;01mdef\u001b[39;00m \u001b[38;5;21mis_prime\u001b[39m(n):\n\u001b[1;32m----> 2\u001b[0m     \u001b[38;5;28;01mreturn\u001b[39;00m n \u001b[38;5;241m==\u001b[39m \u001b[43msmallest_devisor\u001b[49m(n)\n",
      "\u001b[1;31mNameError\u001b[0m: name 'smallest_devisor' is not defined"
     ]
    }
   ],
   "source": [
    "test_is_prime()"
   ]
  },
  {
   "cell_type": "code",
   "execution_count": 11,
   "metadata": {},
   "outputs": [],
   "source": [
    "def smallest_devisor(n): ..."
   ]
  },
  {
   "cell_type": "code",
   "execution_count": 12,
   "metadata": {},
   "outputs": [
    {
     "ename": "AssertionError",
     "evalue": "",
     "output_type": "error",
     "traceback": [
      "\u001b[1;31m---------------------------------------------------------------------------\u001b[0m",
      "\u001b[1;31mAssertionError\u001b[0m                            Traceback (most recent call last)",
      "Cell \u001b[1;32mIn[12], line 1\u001b[0m\n\u001b[1;32m----> 1\u001b[0m \u001b[43mtest_is_prime\u001b[49m\u001b[43m(\u001b[49m\u001b[43m)\u001b[49m\n",
      "Cell \u001b[1;32mIn[1], line 4\u001b[0m, in \u001b[0;36mtest_is_prime\u001b[1;34m()\u001b[0m\n\u001b[0;32m      2\u001b[0m primes \u001b[38;5;241m=\u001b[39m ((\u001b[38;5;241m2\u001b[39m, \u001b[38;5;28;01mTrue\u001b[39;00m), (\u001b[38;5;241m3\u001b[39m, \u001b[38;5;28;01mTrue\u001b[39;00m), (\u001b[38;5;241m4\u001b[39m, \u001b[38;5;28;01mFalse\u001b[39;00m), (\u001b[38;5;241m5\u001b[39m, \u001b[38;5;28;01mTrue\u001b[39;00m), (\u001b[38;5;241m6\u001b[39m, \u001b[38;5;28;01mFalse\u001b[39;00m), (\u001b[38;5;241m7\u001b[39m, \u001b[38;5;28;01mTrue\u001b[39;00m), (\u001b[38;5;241m8\u001b[39m, \u001b[38;5;28;01mFalse\u001b[39;00m), (\u001b[38;5;241m9\u001b[39m, \u001b[38;5;28;01mFalse\u001b[39;00m), (\u001b[38;5;241m10\u001b[39m, \u001b[38;5;28;01mFalse\u001b[39;00m), (\u001b[38;5;241m11\u001b[39m, \u001b[38;5;28;01mTrue\u001b[39;00m))\n\u001b[0;32m      3\u001b[0m \u001b[38;5;28;01mfor\u001b[39;00m i \u001b[38;5;129;01min\u001b[39;00m primes:\n\u001b[1;32m----> 4\u001b[0m     \u001b[38;5;28;01massert\u001b[39;00m is_prime(i[\u001b[38;5;241m0\u001b[39m]) \u001b[38;5;129;01mis\u001b[39;00m i[\u001b[38;5;241m1\u001b[39m]\n",
      "\u001b[1;31mAssertionError\u001b[0m: "
     ]
    }
   ],
   "source": [
    "test_is_prime()"
   ]
  },
  {
   "cell_type": "code",
   "execution_count": 13,
   "metadata": {},
   "outputs": [],
   "source": [
    "def smallest_devisor(n):\n",
    "    return find_divisor(n, 2)"
   ]
  },
  {
   "cell_type": "code",
   "execution_count": 14,
   "metadata": {},
   "outputs": [
    {
     "ename": "NameError",
     "evalue": "name 'find_divisor' is not defined",
     "output_type": "error",
     "traceback": [
      "\u001b[1;31m---------------------------------------------------------------------------\u001b[0m",
      "\u001b[1;31mNameError\u001b[0m                                 Traceback (most recent call last)",
      "Cell \u001b[1;32mIn[14], line 1\u001b[0m\n\u001b[1;32m----> 1\u001b[0m \u001b[43mtest_is_prime\u001b[49m\u001b[43m(\u001b[49m\u001b[43m)\u001b[49m\n",
      "Cell \u001b[1;32mIn[1], line 4\u001b[0m, in \u001b[0;36mtest_is_prime\u001b[1;34m()\u001b[0m\n\u001b[0;32m      2\u001b[0m primes \u001b[38;5;241m=\u001b[39m ((\u001b[38;5;241m2\u001b[39m, \u001b[38;5;28;01mTrue\u001b[39;00m), (\u001b[38;5;241m3\u001b[39m, \u001b[38;5;28;01mTrue\u001b[39;00m), (\u001b[38;5;241m4\u001b[39m, \u001b[38;5;28;01mFalse\u001b[39;00m), (\u001b[38;5;241m5\u001b[39m, \u001b[38;5;28;01mTrue\u001b[39;00m), (\u001b[38;5;241m6\u001b[39m, \u001b[38;5;28;01mFalse\u001b[39;00m), (\u001b[38;5;241m7\u001b[39m, \u001b[38;5;28;01mTrue\u001b[39;00m), (\u001b[38;5;241m8\u001b[39m, \u001b[38;5;28;01mFalse\u001b[39;00m), (\u001b[38;5;241m9\u001b[39m, \u001b[38;5;28;01mFalse\u001b[39;00m), (\u001b[38;5;241m10\u001b[39m, \u001b[38;5;28;01mFalse\u001b[39;00m), (\u001b[38;5;241m11\u001b[39m, \u001b[38;5;28;01mTrue\u001b[39;00m))\n\u001b[0;32m      3\u001b[0m \u001b[38;5;28;01mfor\u001b[39;00m i \u001b[38;5;129;01min\u001b[39;00m primes:\n\u001b[1;32m----> 4\u001b[0m     \u001b[38;5;28;01massert\u001b[39;00m \u001b[43mis_prime\u001b[49m\u001b[43m(\u001b[49m\u001b[43mi\u001b[49m\u001b[43m[\u001b[49m\u001b[38;5;241;43m0\u001b[39;49m\u001b[43m]\u001b[49m\u001b[43m)\u001b[49m \u001b[38;5;129;01mis\u001b[39;00m i[\u001b[38;5;241m1\u001b[39m]\n",
      "Cell \u001b[1;32mIn[9], line 2\u001b[0m, in \u001b[0;36mis_prime\u001b[1;34m(n)\u001b[0m\n\u001b[0;32m      1\u001b[0m \u001b[38;5;28;01mdef\u001b[39;00m \u001b[38;5;21mis_prime\u001b[39m(n):\n\u001b[1;32m----> 2\u001b[0m     \u001b[38;5;28;01mreturn\u001b[39;00m n \u001b[38;5;241m==\u001b[39m \u001b[43msmallest_devisor\u001b[49m\u001b[43m(\u001b[49m\u001b[43mn\u001b[49m\u001b[43m)\u001b[49m\n",
      "Cell \u001b[1;32mIn[13], line 2\u001b[0m, in \u001b[0;36msmallest_devisor\u001b[1;34m(n)\u001b[0m\n\u001b[0;32m      1\u001b[0m \u001b[38;5;28;01mdef\u001b[39;00m \u001b[38;5;21msmallest_devisor\u001b[39m(n):\n\u001b[1;32m----> 2\u001b[0m     \u001b[38;5;28;01mreturn\u001b[39;00m \u001b[43mfind_divisor\u001b[49m(n, \u001b[38;5;241m2\u001b[39m)\n",
      "\u001b[1;31mNameError\u001b[0m: name 'find_divisor' is not defined"
     ]
    }
   ],
   "source": [
    "test_is_prime()"
   ]
  },
  {
   "cell_type": "code",
   "execution_count": 15,
   "metadata": {},
   "outputs": [],
   "source": [
    "def find_divisor(n, test_divisor): ..."
   ]
  },
  {
   "cell_type": "code",
   "execution_count": 16,
   "metadata": {},
   "outputs": [
    {
     "ename": "AssertionError",
     "evalue": "",
     "output_type": "error",
     "traceback": [
      "\u001b[1;31m---------------------------------------------------------------------------\u001b[0m",
      "\u001b[1;31mAssertionError\u001b[0m                            Traceback (most recent call last)",
      "Cell \u001b[1;32mIn[16], line 1\u001b[0m\n\u001b[1;32m----> 1\u001b[0m \u001b[43mtest_is_prime\u001b[49m\u001b[43m(\u001b[49m\u001b[43m)\u001b[49m\n",
      "Cell \u001b[1;32mIn[1], line 4\u001b[0m, in \u001b[0;36mtest_is_prime\u001b[1;34m()\u001b[0m\n\u001b[0;32m      2\u001b[0m primes \u001b[38;5;241m=\u001b[39m ((\u001b[38;5;241m2\u001b[39m, \u001b[38;5;28;01mTrue\u001b[39;00m), (\u001b[38;5;241m3\u001b[39m, \u001b[38;5;28;01mTrue\u001b[39;00m), (\u001b[38;5;241m4\u001b[39m, \u001b[38;5;28;01mFalse\u001b[39;00m), (\u001b[38;5;241m5\u001b[39m, \u001b[38;5;28;01mTrue\u001b[39;00m), (\u001b[38;5;241m6\u001b[39m, \u001b[38;5;28;01mFalse\u001b[39;00m), (\u001b[38;5;241m7\u001b[39m, \u001b[38;5;28;01mTrue\u001b[39;00m), (\u001b[38;5;241m8\u001b[39m, \u001b[38;5;28;01mFalse\u001b[39;00m), (\u001b[38;5;241m9\u001b[39m, \u001b[38;5;28;01mFalse\u001b[39;00m), (\u001b[38;5;241m10\u001b[39m, \u001b[38;5;28;01mFalse\u001b[39;00m), (\u001b[38;5;241m11\u001b[39m, \u001b[38;5;28;01mTrue\u001b[39;00m))\n\u001b[0;32m      3\u001b[0m \u001b[38;5;28;01mfor\u001b[39;00m i \u001b[38;5;129;01min\u001b[39;00m primes:\n\u001b[1;32m----> 4\u001b[0m     \u001b[38;5;28;01massert\u001b[39;00m is_prime(i[\u001b[38;5;241m0\u001b[39m]) \u001b[38;5;129;01mis\u001b[39;00m i[\u001b[38;5;241m1\u001b[39m]\n",
      "\u001b[1;31mAssertionError\u001b[0m: "
     ]
    }
   ],
   "source": [
    "test_is_prime()"
   ]
  },
  {
   "cell_type": "code",
   "execution_count": 17,
   "metadata": {},
   "outputs": [],
   "source": [
    "def find_divisor(n, test_divisor):\n",
    "    if square(test_divisor) > n:\n",
    "        return n\n",
    "    elif is_divides(test_divisor, n):\n",
    "        return test_divisor\n",
    "    return find_divisor(n, test_divisor + 1)"
   ]
  },
  {
   "cell_type": "code",
   "execution_count": 18,
   "metadata": {},
   "outputs": [
    {
     "ename": "NameError",
     "evalue": "name 'square' is not defined",
     "output_type": "error",
     "traceback": [
      "\u001b[1;31m---------------------------------------------------------------------------\u001b[0m",
      "\u001b[1;31mNameError\u001b[0m                                 Traceback (most recent call last)",
      "Cell \u001b[1;32mIn[18], line 1\u001b[0m\n\u001b[1;32m----> 1\u001b[0m \u001b[43mtest_is_prime\u001b[49m\u001b[43m(\u001b[49m\u001b[43m)\u001b[49m\n",
      "Cell \u001b[1;32mIn[1], line 4\u001b[0m, in \u001b[0;36mtest_is_prime\u001b[1;34m()\u001b[0m\n\u001b[0;32m      2\u001b[0m primes \u001b[38;5;241m=\u001b[39m ((\u001b[38;5;241m2\u001b[39m, \u001b[38;5;28;01mTrue\u001b[39;00m), (\u001b[38;5;241m3\u001b[39m, \u001b[38;5;28;01mTrue\u001b[39;00m), (\u001b[38;5;241m4\u001b[39m, \u001b[38;5;28;01mFalse\u001b[39;00m), (\u001b[38;5;241m5\u001b[39m, \u001b[38;5;28;01mTrue\u001b[39;00m), (\u001b[38;5;241m6\u001b[39m, \u001b[38;5;28;01mFalse\u001b[39;00m), (\u001b[38;5;241m7\u001b[39m, \u001b[38;5;28;01mTrue\u001b[39;00m), (\u001b[38;5;241m8\u001b[39m, \u001b[38;5;28;01mFalse\u001b[39;00m), (\u001b[38;5;241m9\u001b[39m, \u001b[38;5;28;01mFalse\u001b[39;00m), (\u001b[38;5;241m10\u001b[39m, \u001b[38;5;28;01mFalse\u001b[39;00m), (\u001b[38;5;241m11\u001b[39m, \u001b[38;5;28;01mTrue\u001b[39;00m))\n\u001b[0;32m      3\u001b[0m \u001b[38;5;28;01mfor\u001b[39;00m i \u001b[38;5;129;01min\u001b[39;00m primes:\n\u001b[1;32m----> 4\u001b[0m     \u001b[38;5;28;01massert\u001b[39;00m \u001b[43mis_prime\u001b[49m\u001b[43m(\u001b[49m\u001b[43mi\u001b[49m\u001b[43m[\u001b[49m\u001b[38;5;241;43m0\u001b[39;49m\u001b[43m]\u001b[49m\u001b[43m)\u001b[49m \u001b[38;5;129;01mis\u001b[39;00m i[\u001b[38;5;241m1\u001b[39m]\n",
      "Cell \u001b[1;32mIn[9], line 2\u001b[0m, in \u001b[0;36mis_prime\u001b[1;34m(n)\u001b[0m\n\u001b[0;32m      1\u001b[0m \u001b[38;5;28;01mdef\u001b[39;00m \u001b[38;5;21mis_prime\u001b[39m(n):\n\u001b[1;32m----> 2\u001b[0m     \u001b[38;5;28;01mreturn\u001b[39;00m n \u001b[38;5;241m==\u001b[39m \u001b[43msmallest_devisor\u001b[49m\u001b[43m(\u001b[49m\u001b[43mn\u001b[49m\u001b[43m)\u001b[49m\n",
      "Cell \u001b[1;32mIn[13], line 2\u001b[0m, in \u001b[0;36msmallest_devisor\u001b[1;34m(n)\u001b[0m\n\u001b[0;32m      1\u001b[0m \u001b[38;5;28;01mdef\u001b[39;00m \u001b[38;5;21msmallest_devisor\u001b[39m(n):\n\u001b[1;32m----> 2\u001b[0m     \u001b[38;5;28;01mreturn\u001b[39;00m \u001b[43mfind_divisor\u001b[49m\u001b[43m(\u001b[49m\u001b[43mn\u001b[49m\u001b[43m,\u001b[49m\u001b[43m \u001b[49m\u001b[38;5;241;43m2\u001b[39;49m\u001b[43m)\u001b[49m\n",
      "Cell \u001b[1;32mIn[17], line 2\u001b[0m, in \u001b[0;36mfind_divisor\u001b[1;34m(n, test_divisor)\u001b[0m\n\u001b[0;32m      1\u001b[0m \u001b[38;5;28;01mdef\u001b[39;00m \u001b[38;5;21mfind_divisor\u001b[39m(n, test_divisor):\n\u001b[1;32m----> 2\u001b[0m     \u001b[38;5;28;01mif\u001b[39;00m \u001b[43msquare\u001b[49m(test_divisor) \u001b[38;5;241m>\u001b[39m n:\n\u001b[0;32m      3\u001b[0m         \u001b[38;5;28;01mreturn\u001b[39;00m n\n\u001b[0;32m      4\u001b[0m     \u001b[38;5;28;01melif\u001b[39;00m is_divides(test_divisor, n):\n",
      "\u001b[1;31mNameError\u001b[0m: name 'square' is not defined"
     ]
    }
   ],
   "source": [
    "test_is_prime()"
   ]
  },
  {
   "cell_type": "code",
   "execution_count": 19,
   "metadata": {},
   "outputs": [],
   "source": [
    "def square(x):\n",
    "    return x * x"
   ]
  },
  {
   "cell_type": "code",
   "execution_count": 20,
   "metadata": {},
   "outputs": [
    {
     "ename": "NameError",
     "evalue": "name 'is_divides' is not defined",
     "output_type": "error",
     "traceback": [
      "\u001b[1;31m---------------------------------------------------------------------------\u001b[0m",
      "\u001b[1;31mNameError\u001b[0m                                 Traceback (most recent call last)",
      "Cell \u001b[1;32mIn[20], line 1\u001b[0m\n\u001b[1;32m----> 1\u001b[0m \u001b[43mtest_is_prime\u001b[49m\u001b[43m(\u001b[49m\u001b[43m)\u001b[49m\n",
      "Cell \u001b[1;32mIn[1], line 4\u001b[0m, in \u001b[0;36mtest_is_prime\u001b[1;34m()\u001b[0m\n\u001b[0;32m      2\u001b[0m primes \u001b[38;5;241m=\u001b[39m ((\u001b[38;5;241m2\u001b[39m, \u001b[38;5;28;01mTrue\u001b[39;00m), (\u001b[38;5;241m3\u001b[39m, \u001b[38;5;28;01mTrue\u001b[39;00m), (\u001b[38;5;241m4\u001b[39m, \u001b[38;5;28;01mFalse\u001b[39;00m), (\u001b[38;5;241m5\u001b[39m, \u001b[38;5;28;01mTrue\u001b[39;00m), (\u001b[38;5;241m6\u001b[39m, \u001b[38;5;28;01mFalse\u001b[39;00m), (\u001b[38;5;241m7\u001b[39m, \u001b[38;5;28;01mTrue\u001b[39;00m), (\u001b[38;5;241m8\u001b[39m, \u001b[38;5;28;01mFalse\u001b[39;00m), (\u001b[38;5;241m9\u001b[39m, \u001b[38;5;28;01mFalse\u001b[39;00m), (\u001b[38;5;241m10\u001b[39m, \u001b[38;5;28;01mFalse\u001b[39;00m), (\u001b[38;5;241m11\u001b[39m, \u001b[38;5;28;01mTrue\u001b[39;00m))\n\u001b[0;32m      3\u001b[0m \u001b[38;5;28;01mfor\u001b[39;00m i \u001b[38;5;129;01min\u001b[39;00m primes:\n\u001b[1;32m----> 4\u001b[0m     \u001b[38;5;28;01massert\u001b[39;00m \u001b[43mis_prime\u001b[49m\u001b[43m(\u001b[49m\u001b[43mi\u001b[49m\u001b[43m[\u001b[49m\u001b[38;5;241;43m0\u001b[39;49m\u001b[43m]\u001b[49m\u001b[43m)\u001b[49m \u001b[38;5;129;01mis\u001b[39;00m i[\u001b[38;5;241m1\u001b[39m]\n",
      "Cell \u001b[1;32mIn[9], line 2\u001b[0m, in \u001b[0;36mis_prime\u001b[1;34m(n)\u001b[0m\n\u001b[0;32m      1\u001b[0m \u001b[38;5;28;01mdef\u001b[39;00m \u001b[38;5;21mis_prime\u001b[39m(n):\n\u001b[1;32m----> 2\u001b[0m     \u001b[38;5;28;01mreturn\u001b[39;00m n \u001b[38;5;241m==\u001b[39m \u001b[43msmallest_devisor\u001b[49m\u001b[43m(\u001b[49m\u001b[43mn\u001b[49m\u001b[43m)\u001b[49m\n",
      "Cell \u001b[1;32mIn[13], line 2\u001b[0m, in \u001b[0;36msmallest_devisor\u001b[1;34m(n)\u001b[0m\n\u001b[0;32m      1\u001b[0m \u001b[38;5;28;01mdef\u001b[39;00m \u001b[38;5;21msmallest_devisor\u001b[39m(n):\n\u001b[1;32m----> 2\u001b[0m     \u001b[38;5;28;01mreturn\u001b[39;00m \u001b[43mfind_divisor\u001b[49m\u001b[43m(\u001b[49m\u001b[43mn\u001b[49m\u001b[43m,\u001b[49m\u001b[43m \u001b[49m\u001b[38;5;241;43m2\u001b[39;49m\u001b[43m)\u001b[49m\n",
      "Cell \u001b[1;32mIn[17], line 4\u001b[0m, in \u001b[0;36mfind_divisor\u001b[1;34m(n, test_divisor)\u001b[0m\n\u001b[0;32m      2\u001b[0m \u001b[38;5;28;01mif\u001b[39;00m square(test_divisor) \u001b[38;5;241m>\u001b[39m n:\n\u001b[0;32m      3\u001b[0m     \u001b[38;5;28;01mreturn\u001b[39;00m n\n\u001b[1;32m----> 4\u001b[0m \u001b[38;5;28;01melif\u001b[39;00m \u001b[43mis_divides\u001b[49m(test_divisor, n):\n\u001b[0;32m      5\u001b[0m     \u001b[38;5;28;01mreturn\u001b[39;00m test_divisor\n\u001b[0;32m      6\u001b[0m \u001b[38;5;28;01mreturn\u001b[39;00m find_divisor(n, test_divisor \u001b[38;5;241m+\u001b[39m \u001b[38;5;241m1\u001b[39m)\n",
      "\u001b[1;31mNameError\u001b[0m: name 'is_divides' is not defined"
     ]
    }
   ],
   "source": [
    "test_is_prime()"
   ]
  },
  {
   "cell_type": "code",
   "execution_count": 21,
   "metadata": {},
   "outputs": [],
   "source": [
    "def is_divides(a, b):\n",
    "    return b % a == 0"
   ]
  },
  {
   "cell_type": "code",
   "execution_count": 22,
   "metadata": {},
   "outputs": [],
   "source": [
    "test_is_prime()"
   ]
  },
  {
   "cell_type": "code",
   "execution_count": null,
   "metadata": {},
   "outputs": [],
   "source": []
  },
  {
   "cell_type": "code",
   "execution_count": null,
   "metadata": {},
   "outputs": [],
   "source": []
  }
 ],
 "metadata": {
  "kernelspec": {
   "display_name": "Python 3",
   "language": "python",
   "name": "python3"
  },
  "language_info": {
   "codemirror_mode": {
    "name": "ipython",
    "version": 3
   },
   "file_extension": ".py",
   "mimetype": "text/x-python",
   "name": "python",
   "nbconvert_exporter": "python",
   "pygments_lexer": "ipython3",
   "version": "3.12.4"
  }
 },
 "nbformat": 4,
 "nbformat_minor": 2
}
