{
 "cells": [
  {
   "cell_type": "markdown",
   "metadata": {},
   "source": [
    "Символьные дынные. Кавычки"
   ]
  },
  {
   "cell_type": "code",
   "execution_count": 1,
   "metadata": {},
   "outputs": [],
   "source": [
    "a = 1\n",
    "b = 2"
   ]
  },
  {
   "cell_type": "code",
   "execution_count": 2,
   "metadata": {},
   "outputs": [
    {
     "data": {
      "text/plain": [
       "<function pair.cons.<locals>.rat(t: _types.TypeSelectorEnum) -> Numer | Denom>"
      ]
     },
     "execution_count": 2,
     "metadata": {},
     "output_type": "execute_result"
    }
   ],
   "source": [
    "from pair import list_\n",
    "list_([a, b])"
   ]
  },
  {
   "cell_type": "code",
   "execution_count": 3,
   "metadata": {},
   "outputs": [],
   "source": [
    "from pair import list_\n",
    "\n",
    "\n",
    "def test_to_list():\n",
    "    l = [1, 2, [3, [4, 1]]]\n",
    "    l_pair = list_(l)\n",
    "    assert to_list(l_pair) == l\n"
   ]
  },
  {
   "cell_type": "code",
   "execution_count": 4,
   "metadata": {},
   "outputs": [
    {
     "ename": "NameError",
     "evalue": "name 'to_list' is not defined",
     "output_type": "error",
     "traceback": [
      "\u001b[1;31m---------------------------------------------------------------------------\u001b[0m",
      "\u001b[1;31mNameError\u001b[0m                                 Traceback (most recent call last)",
      "Cell \u001b[1;32mIn[4], line 1\u001b[0m\n\u001b[1;32m----> 1\u001b[0m \u001b[43mtest_to_list\u001b[49m\u001b[43m(\u001b[49m\u001b[43m)\u001b[49m\n",
      "Cell \u001b[1;32mIn[3], line 7\u001b[0m, in \u001b[0;36mtest_to_list\u001b[1;34m()\u001b[0m\n\u001b[0;32m      5\u001b[0m l \u001b[38;5;241m=\u001b[39m [\u001b[38;5;241m1\u001b[39m, \u001b[38;5;241m2\u001b[39m, [\u001b[38;5;241m3\u001b[39m, [\u001b[38;5;241m4\u001b[39m, \u001b[38;5;241m1\u001b[39m]]]\n\u001b[0;32m      6\u001b[0m l_pair \u001b[38;5;241m=\u001b[39m list_(l)\n\u001b[1;32m----> 7\u001b[0m \u001b[38;5;28;01massert\u001b[39;00m \u001b[43mto_list\u001b[49m(l_pair) \u001b[38;5;241m==\u001b[39m l\n",
      "\u001b[1;31mNameError\u001b[0m: name 'to_list' is not defined"
     ]
    }
   ],
   "source": [
    "test_to_list()"
   ]
  },
  {
   "cell_type": "code",
   "execution_count": 5,
   "metadata": {},
   "outputs": [],
   "source": [
    "from _types import ListPair\n",
    "\n",
    "\n",
    "def to_list(pair_list: ListPair):\n",
    "    ..."
   ]
  },
  {
   "cell_type": "code",
   "execution_count": 6,
   "metadata": {},
   "outputs": [
    {
     "ename": "AssertionError",
     "evalue": "",
     "output_type": "error",
     "traceback": [
      "\u001b[1;31m---------------------------------------------------------------------------\u001b[0m",
      "\u001b[1;31mAssertionError\u001b[0m                            Traceback (most recent call last)",
      "Cell \u001b[1;32mIn[6], line 1\u001b[0m\n\u001b[1;32m----> 1\u001b[0m \u001b[43mtest_to_list\u001b[49m\u001b[43m(\u001b[49m\u001b[43m)\u001b[49m\n",
      "Cell \u001b[1;32mIn[3], line 7\u001b[0m, in \u001b[0;36mtest_to_list\u001b[1;34m()\u001b[0m\n\u001b[0;32m      5\u001b[0m l \u001b[38;5;241m=\u001b[39m [\u001b[38;5;241m1\u001b[39m, \u001b[38;5;241m2\u001b[39m, [\u001b[38;5;241m3\u001b[39m, [\u001b[38;5;241m4\u001b[39m, \u001b[38;5;241m1\u001b[39m]]]\n\u001b[0;32m      6\u001b[0m l_pair \u001b[38;5;241m=\u001b[39m list_(l)\n\u001b[1;32m----> 7\u001b[0m \u001b[38;5;28;01massert\u001b[39;00m to_list(l_pair) \u001b[38;5;241m==\u001b[39m l\n",
      "\u001b[1;31mAssertionError\u001b[0m: "
     ]
    }
   ],
   "source": [
    "test_to_list()"
   ]
  },
  {
   "cell_type": "code",
   "execution_count": 7,
   "metadata": {},
   "outputs": [],
   "source": [
    "from _types import ListPair\n",
    "from pair import is_none, car, cdr\n",
    "\n",
    "def to_list(pair_list: ListPair):\n",
    "    if is_none(pair_list):\n",
    "        return []\n",
    "    return [car(pair_list)] + to_list(cdr(pair_list))"
   ]
  },
  {
   "cell_type": "code",
   "execution_count": 8,
   "metadata": {},
   "outputs": [],
   "source": [
    "test_to_list()"
   ]
  },
  {
   "cell_type": "code",
   "execution_count": 9,
   "metadata": {},
   "outputs": [
    {
     "name": "stdout",
     "output_type": "stream",
     "text": [
      "[1, 2]\n"
     ]
    }
   ],
   "source": [
    "from pair import list_, to_list\n",
    "lp = list_([a, b])\n",
    "print(to_list(lp))"
   ]
  },
  {
   "cell_type": "code",
   "execution_count": 10,
   "metadata": {},
   "outputs": [
    {
     "name": "stdout",
     "output_type": "stream",
     "text": [
      "['a', 'b']\n"
     ]
    }
   ],
   "source": [
    "from pair import list_, to_list\n",
    "c, d = \"a\", \"b\"\n",
    "lp = list_([c, d])\n",
    "print(to_list(lp))"
   ]
  },
  {
   "cell_type": "code",
   "execution_count": 15,
   "metadata": {},
   "outputs": [],
   "source": [
    "from typing import Any\n",
    "\n",
    "\n",
    "def test_is_eq():\n",
    "    x = 'a'\n",
    "    y = 'a'\n",
    "    z = 'b'\n",
    "    assert is_eq(x, y)\n",
    "    assert not is_eq(x, z)\n"
   ]
  },
  {
   "cell_type": "code",
   "execution_count": 16,
   "metadata": {},
   "outputs": [],
   "source": [
    "test_is_eq()"
   ]
  },
  {
   "cell_type": "code",
   "execution_count": 17,
   "metadata": {},
   "outputs": [],
   "source": [
    "def is_eq(x: Any, y: Any) -> bool:\n",
    "    \"\"\"Проверяет на равенство два символа.\"\"\"\n",
    "    return x == y"
   ]
  },
  {
   "cell_type": "code",
   "execution_count": 18,
   "metadata": {},
   "outputs": [],
   "source": [
    "test_is_eq()"
   ]
  },
  {
   "cell_type": "code",
   "execution_count": 39,
   "metadata": {},
   "outputs": [],
   "source": [
    "from pair import is_equal_tree\n",
    "def test_memq():\n",
    "    \"\"\"Тестирует функцию, которая принимает символ и список.\n",
    "    Если символ не содержится в списке, то вернет False.\n",
    "    Если символ содержится в списке, то вернет подсписок списка, начиная с первого вхождения.\"\"\"\n",
    "    item = \"apple\"\n",
    "    lp_success = list_([\"x\",list_([\"apple\", \"sauce\"]), \"b\", \"apple\", \"pear\"])\n",
    "    lp_fail = list_([\"pear\", \"banana\", \"prune\"])\n",
    "    assert is_equal_tree(memq(item, lp_success), list_([\"apple\", \"pear\"]))\n",
    "    assert memq(item, lp_fail) is False"
   ]
  },
  {
   "cell_type": "code",
   "execution_count": 40,
   "metadata": {},
   "outputs": [],
   "source": [
    "test_memq()\n"
   ]
  },
  {
   "cell_type": "code",
   "execution_count": 41,
   "metadata": {},
   "outputs": [],
   "source": [
    "def memq(item: Any, x: ListPair):\n",
    "    ..."
   ]
  },
  {
   "cell_type": "code",
   "execution_count": 42,
   "metadata": {},
   "outputs": [
    {
     "ename": "AssertionError",
     "evalue": "",
     "output_type": "error",
     "traceback": [
      "\u001b[1;31m---------------------------------------------------------------------------\u001b[0m",
      "\u001b[1;31mAssertionError\u001b[0m                            Traceback (most recent call last)",
      "Cell \u001b[1;32mIn[42], line 1\u001b[0m\n\u001b[1;32m----> 1\u001b[0m \u001b[43mtest_memq\u001b[49m\u001b[43m(\u001b[49m\u001b[43m)\u001b[49m\n",
      "Cell \u001b[1;32mIn[39], line 9\u001b[0m, in \u001b[0;36mtest_memq\u001b[1;34m()\u001b[0m\n\u001b[0;32m      7\u001b[0m lp_success \u001b[38;5;241m=\u001b[39m list_([\u001b[38;5;124m\"\u001b[39m\u001b[38;5;124mx\u001b[39m\u001b[38;5;124m\"\u001b[39m,list_([\u001b[38;5;124m\"\u001b[39m\u001b[38;5;124mapple\u001b[39m\u001b[38;5;124m\"\u001b[39m, \u001b[38;5;124m\"\u001b[39m\u001b[38;5;124msauce\u001b[39m\u001b[38;5;124m\"\u001b[39m]), \u001b[38;5;124m\"\u001b[39m\u001b[38;5;124mb\u001b[39m\u001b[38;5;124m\"\u001b[39m, \u001b[38;5;124m\"\u001b[39m\u001b[38;5;124mapple\u001b[39m\u001b[38;5;124m\"\u001b[39m, \u001b[38;5;124m\"\u001b[39m\u001b[38;5;124mpear\u001b[39m\u001b[38;5;124m\"\u001b[39m])\n\u001b[0;32m      8\u001b[0m lp_fail \u001b[38;5;241m=\u001b[39m list_([\u001b[38;5;124m\"\u001b[39m\u001b[38;5;124mpear\u001b[39m\u001b[38;5;124m\"\u001b[39m, \u001b[38;5;124m\"\u001b[39m\u001b[38;5;124mbanana\u001b[39m\u001b[38;5;124m\"\u001b[39m, \u001b[38;5;124m\"\u001b[39m\u001b[38;5;124mprune\u001b[39m\u001b[38;5;124m\"\u001b[39m])\n\u001b[1;32m----> 9\u001b[0m \u001b[38;5;28;01massert\u001b[39;00m is_equal_tree(memq(item, lp_success), list_([\u001b[38;5;124m\"\u001b[39m\u001b[38;5;124mapple\u001b[39m\u001b[38;5;124m\"\u001b[39m, \u001b[38;5;124m\"\u001b[39m\u001b[38;5;124mpear\u001b[39m\u001b[38;5;124m\"\u001b[39m]))\n\u001b[0;32m     10\u001b[0m \u001b[38;5;28;01massert\u001b[39;00m memq(item, lp_fail) \u001b[38;5;129;01mis\u001b[39;00m \u001b[38;5;28;01mFalse\u001b[39;00m\n",
      "\u001b[1;31mAssertionError\u001b[0m: "
     ]
    }
   ],
   "source": [
    "test_memq()"
   ]
  },
  {
   "cell_type": "code",
   "execution_count": 43,
   "metadata": {},
   "outputs": [],
   "source": [
    "def memq(item: Any, x: ListPair) -> bool | ListPair:\n",
    "    if is_none(x):\n",
    "        return False\n",
    "    elif is_eq(item, car(x)):\n",
    "        return x\n",
    "    return memq(item, cdr(x))"
   ]
  },
  {
   "cell_type": "code",
   "execution_count": 44,
   "metadata": {},
   "outputs": [],
   "source": [
    "test_memq()"
   ]
  },
  {
   "cell_type": "code",
   "execution_count": 46,
   "metadata": {},
   "outputs": [
    {
     "data": {
      "text/plain": [
       "False"
      ]
     },
     "execution_count": 46,
     "metadata": {},
     "output_type": "execute_result"
    }
   ],
   "source": [
    "memq(\"red\", list_([list_([\"red\", \"shoes\"]), list_([\"blue\", \"socks\"])]))"
   ]
  },
  {
   "cell_type": "code",
   "execution_count": 48,
   "metadata": {},
   "outputs": [
    {
     "data": {
      "text/plain": [
       "['red', 'shoes', 'blue', 'socks']"
      ]
     },
     "execution_count": 48,
     "metadata": {},
     "output_type": "execute_result"
    }
   ],
   "source": [
    "to_list(memq(\"red\", list_([\"red\", \"shoes\", \"blue\", \"socks\"])))"
   ]
  },
  {
   "cell_type": "code",
   "execution_count": null,
   "metadata": {},
   "outputs": [],
   "source": []
  }
 ],
 "metadata": {
  "kernelspec": {
   "display_name": "Python 3",
   "language": "python",
   "name": "python3"
  },
  "language_info": {
   "codemirror_mode": {
    "name": "ipython",
    "version": 3
   },
   "file_extension": ".py",
   "mimetype": "text/x-python",
   "name": "python",
   "nbconvert_exporter": "python",
   "pygments_lexer": "ipython3",
   "version": "3.12.4"
  }
 },
 "nbformat": 4,
 "nbformat_minor": 2
}
