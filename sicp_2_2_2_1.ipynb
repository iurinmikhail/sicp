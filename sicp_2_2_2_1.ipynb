{
 "cells": [
  {
   "cell_type": "markdown",
   "metadata": {},
   "source": [
    "Отображение деревьев"
   ]
  },
  {
   "cell_type": "code",
   "execution_count": 1,
   "metadata": {},
   "outputs": [],
   "source": [
    "from pair import list_, is_equal_tree\n",
    "\n",
    "def test_scale_tree():\n",
    "    items = list_([1, list_([2, list_([3, 4]), 5]), list_([6, 7])])\n",
    "    expected = list_([10, list_([20, list_([30, 40]), 50]), list_([60, 70])])\n",
    "    factor = 10\n",
    "    result = scale_tree(items, factor)\n",
    "    assert is_equal_tree(result, expected)"
   ]
  },
  {
   "cell_type": "code",
   "execution_count": 2,
   "metadata": {},
   "outputs": [
    {
     "ename": "NameError",
     "evalue": "name 'scale_tree' is not defined",
     "output_type": "error",
     "traceback": [
      "\u001b[1;31m---------------------------------------------------------------------------\u001b[0m",
      "\u001b[1;31mNameError\u001b[0m                                 Traceback (most recent call last)",
      "Cell \u001b[1;32mIn[2], line 1\u001b[0m\n\u001b[1;32m----> 1\u001b[0m \u001b[43mtest_scale_tree\u001b[49m\u001b[43m(\u001b[49m\u001b[43m)\u001b[49m\n",
      "Cell \u001b[1;32mIn[1], line 7\u001b[0m, in \u001b[0;36mtest_scale_tree\u001b[1;34m()\u001b[0m\n\u001b[0;32m      5\u001b[0m expected \u001b[38;5;241m=\u001b[39m list_([\u001b[38;5;241m10\u001b[39m, list_([\u001b[38;5;241m20\u001b[39m, list_([\u001b[38;5;241m30\u001b[39m, \u001b[38;5;241m40\u001b[39m]), \u001b[38;5;241m50\u001b[39m]), list_([\u001b[38;5;241m60\u001b[39m, \u001b[38;5;241m70\u001b[39m])])\n\u001b[0;32m      6\u001b[0m factor \u001b[38;5;241m=\u001b[39m \u001b[38;5;241m10\u001b[39m\n\u001b[1;32m----> 7\u001b[0m result \u001b[38;5;241m=\u001b[39m \u001b[43mscale_tree\u001b[49m(items, factor)\n\u001b[0;32m      8\u001b[0m \u001b[38;5;28;01massert\u001b[39;00m is_equal_tree(result, expected)\n",
      "\u001b[1;31mNameError\u001b[0m: name 'scale_tree' is not defined"
     ]
    }
   ],
   "source": [
    "test_scale_tree()"
   ]
  },
  {
   "cell_type": "code",
   "execution_count": 3,
   "metadata": {},
   "outputs": [],
   "source": [
    "from _types import ListPair\n",
    "def scale_tree(tree: ListPair, factor: int) -> ListPair:\n",
    "    pass"
   ]
  },
  {
   "cell_type": "code",
   "execution_count": 4,
   "metadata": {},
   "outputs": [
    {
     "ename": "AssertionError",
     "evalue": "",
     "output_type": "error",
     "traceback": [
      "\u001b[1;31m---------------------------------------------------------------------------\u001b[0m",
      "\u001b[1;31mAssertionError\u001b[0m                            Traceback (most recent call last)",
      "Cell \u001b[1;32mIn[4], line 1\u001b[0m\n\u001b[1;32m----> 1\u001b[0m \u001b[43mtest_scale_tree\u001b[49m\u001b[43m(\u001b[49m\u001b[43m)\u001b[49m\n",
      "Cell \u001b[1;32mIn[1], line 8\u001b[0m, in \u001b[0;36mtest_scale_tree\u001b[1;34m()\u001b[0m\n\u001b[0;32m      6\u001b[0m factor \u001b[38;5;241m=\u001b[39m \u001b[38;5;241m10\u001b[39m\n\u001b[0;32m      7\u001b[0m result \u001b[38;5;241m=\u001b[39m scale_tree(items, factor)\n\u001b[1;32m----> 8\u001b[0m \u001b[38;5;28;01massert\u001b[39;00m is_equal_tree(result, expected)\n",
      "\u001b[1;31mAssertionError\u001b[0m: "
     ]
    }
   ],
   "source": [
    "test_scale_tree()"
   ]
  },
  {
   "cell_type": "code",
   "execution_count": 5,
   "metadata": {},
   "outputs": [],
   "source": [
    "from _types import ListPair\n",
    "from pair import is_none, is_pair, cons, car, cdr\n",
    "\n",
    "\n",
    "def scale_tree(tree: ListPair, factor: int) -> ListPair:\n",
    "    if is_none(tree):\n",
    "        return None\n",
    "    elif not is_pair(tree):\n",
    "        return tree * factor\n",
    "    return cons(scale_tree(car(tree), factor), scale_tree(cdr(tree), factor))"
   ]
  },
  {
   "cell_type": "code",
   "execution_count": 6,
   "metadata": {},
   "outputs": [],
   "source": [
    "test_scale_tree()"
   ]
  },
  {
   "cell_type": "code",
   "execution_count": 7,
   "metadata": {},
   "outputs": [],
   "source": [
    "from _types import ListPair\n",
    "from pair import is_none, is_pair, map_\n",
    "\n",
    "\n",
    "def scale_tree(tree: ListPair, factor: int) -> ListPair:\n",
    "    return map_(\n",
    "        lambda sub_tree: scale_tree(sub_tree, factor) if is_pair(sub_tree) else sub_tree * factor,\n",
    "        tree,\n",
    "    )"
   ]
  },
  {
   "cell_type": "code",
   "execution_count": 8,
   "metadata": {},
   "outputs": [],
   "source": [
    "test_scale_tree()"
   ]
  },
  {
   "cell_type": "code",
   "execution_count": null,
   "metadata": {},
   "outputs": [],
   "source": []
  }
 ],
 "metadata": {
  "kernelspec": {
   "display_name": "Python 3",
   "language": "python",
   "name": "python3"
  },
  "language_info": {
   "codemirror_mode": {
    "name": "ipython",
    "version": 3
   },
   "file_extension": ".py",
   "mimetype": "text/x-python",
   "name": "python",
   "nbconvert_exporter": "python",
   "pygments_lexer": "ipython3",
   "version": "3.12.4"
  }
 },
 "nbformat": 4,
 "nbformat_minor": 2
}
