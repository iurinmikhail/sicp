{
 "cells": [
  {
   "cell_type": "markdown",
   "id": "68047713-6dea-4251-b0b1-8b9ee1dc99d3",
   "metadata": {},
   "source": [
    "## Есть функции которые считают сумму"
   ]
  },
  {
   "cell_type": "code",
   "execution_count": 36,
   "id": "616a305c-631e-4558-b07f-80496dcae961",
   "metadata": {},
   "outputs": [],
   "source": [
    "def sum_integers(a: int, b: int) -> int:\n",
    "    if a > b:\n",
    "        return 0\n",
    "    return a + sum_integers(a + 1, b)"
   ]
  },
  {
   "cell_type": "code",
   "execution_count": 37,
   "id": "c5f4cdb2-99b3-4efb-82d6-0cf2b1859e87",
   "metadata": {},
   "outputs": [
    {
     "data": {
      "text/plain": [
       "55"
      ]
     },
     "execution_count": 37,
     "metadata": {},
     "output_type": "execute_result"
    }
   ],
   "source": [
    "sum_integers(1, 10)"
   ]
  },
  {
   "cell_type": "code",
   "execution_count": 38,
   "id": "bd8f5ac9-8d48-4077-87f8-1b799aa19e78",
   "metadata": {},
   "outputs": [],
   "source": [
    "def cube(x: int) -> int:\n",
    "    return x * x * x\n",
    "    \n",
    "def sum_cubes(a: int, b: int) -> int:\n",
    "    if a > b:\n",
    "        return 0\n",
    "    return cube(a) + sum_cubes(a + 1, b)"
   ]
  },
  {
   "cell_type": "code",
   "execution_count": 39,
   "id": "164cbd69-106a-40cb-b251-881f9c165c1d",
   "metadata": {},
   "outputs": [
    {
     "data": {
      "text/plain": [
       "3025"
      ]
     },
     "execution_count": 39,
     "metadata": {},
     "output_type": "execute_result"
    }
   ],
   "source": [
    "sum_cubes(1, 10)"
   ]
  },
  {
   "cell_type": "code",
   "execution_count": 40,
   "id": "3b918b92-1d9f-4cb8-8752-2ecd87a62dd1",
   "metadata": {},
   "outputs": [],
   "source": [
    "def pi_sum(a: int, b: int) -> int:\n",
    "    if a > b:\n",
    "        return 0\n",
    "\n",
    "    return (1 / (a * (a + 2))) + pi_sum(a + 4, b)"
   ]
  },
  {
   "cell_type": "code",
   "execution_count": 41,
   "id": "052dbfac-db82-44be-8d77-aefcd8fee8ab",
   "metadata": {},
   "outputs": [
    {
     "data": {
      "text/plain": [
       "0.3333333333333333"
      ]
     },
     "execution_count": 41,
     "metadata": {},
     "output_type": "execute_result"
    }
   ],
   "source": [
    "pi_sum(1, 3)"
   ]
  },
  {
   "cell_type": "markdown",
   "id": "5ecc4a38-2661-401a-bca3-de6218d5faf4",
   "metadata": {},
   "source": [
    "## Абстрактная функция"
   ]
  },
  {
   "cell_type": "markdown",
   "id": "8a18b639-0f22-44c4-a340-5f8e8c049f05",
   "metadata": {},
   "source": [
    "```python\n",
    "def <имя>(a: int, b: int) -> int:\n",
    "    if a > b:\n",
    "        return 0\n",
    "\n",
    "    return <терм>(a) + <имя>(<следующий>(a), b)\n",
    "```"
   ]
  },
  {
   "cell_type": "code",
   "execution_count": 58,
   "id": "db951eea-4ff2-4a3c-8c69-39befc61ab31",
   "metadata": {},
   "outputs": [],
   "source": [
    "from typing import Callable\n",
    "\n",
    "def sum_(term: Callable, a: int, next_: Callable, b: int):\n",
    "    if a > b:\n",
    "        return 0\n",
    "    return term(a) + sum_(term, next_(a), next_, b)"
   ]
  },
  {
   "cell_type": "code",
   "execution_count": 59,
   "id": "d7d5832d-3a7b-4014-83b2-1bb2328ada35",
   "metadata": {},
   "outputs": [],
   "source": [
    "def cube(x: int) -> int:\n",
    "    return x * x * x\n",
    "\n",
    "def inc(n: int) -> int:\n",
    "    return n + 1\n",
    "\n",
    "\n",
    "def sum_cubes(a: int, b: int) -> int:\n",
    "     return sum_(cube, a, inc, b)"
   ]
  },
  {
   "cell_type": "code",
   "execution_count": 60,
   "id": "9aff9ff7-c1ac-41a3-a4bf-980f2d58ff27",
   "metadata": {},
   "outputs": [
    {
     "data": {
      "text/plain": [
       "3025"
      ]
     },
     "execution_count": 60,
     "metadata": {},
     "output_type": "execute_result"
    }
   ],
   "source": [
    "sum_cubes(1, 10)"
   ]
  },
  {
   "cell_type": "code",
   "execution_count": 61,
   "id": "03dd539e-d176-4a86-b3e4-6c1696810d6e",
   "metadata": {},
   "outputs": [],
   "source": [
    "def identity(n: int) -> int:\n",
    "    return n\n",
    "\n",
    "def sum_integers(a: int, b: int) -> int:\n",
    "    return sum_(identity, a, inc, b)"
   ]
  },
  {
   "cell_type": "code",
   "execution_count": 62,
   "id": "a58a0956-2d23-4789-951f-a14704bb1aa7",
   "metadata": {},
   "outputs": [
    {
     "data": {
      "text/plain": [
       "55"
      ]
     },
     "execution_count": 62,
     "metadata": {},
     "output_type": "execute_result"
    }
   ],
   "source": [
    "sum_integers(1, 10)"
   ]
  },
  {
   "cell_type": "code",
   "execution_count": 63,
   "id": "a1877be5-d805-44d4-b38d-3b6800d1f60e",
   "metadata": {},
   "outputs": [],
   "source": [
    "def pi_sum(a: int, b: int) -> int:\n",
    "    def pi_term(x):\n",
    "        return 1 / (x * (x + 2))\n",
    "\n",
    "    def pi_next(x):\n",
    "        return x + 4\n",
    "\n",
    "    return sum_(pi_term, a, pi_next, b)"
   ]
  },
  {
   "cell_type": "code",
   "execution_count": 64,
   "id": "23d05ab8-8c7e-4638-981f-28d1b7acc564",
   "metadata": {},
   "outputs": [
    {
     "data": {
      "text/plain": [
       "3.139592655589783"
      ]
     },
     "execution_count": 64,
     "metadata": {},
     "output_type": "execute_result"
    }
   ],
   "source": [
    "8 * pi_sum(1, 1000)"
   ]
  },
  {
   "cell_type": "code",
   "execution_count": 65,
   "id": "98e3eedd-3052-4c83-b767-40bd23bd2b71",
   "metadata": {},
   "outputs": [],
   "source": [
    "from typing import Callable\n",
    "\n",
    "def integral(f: Callable, a: int, b: int, dx: float) -> float:\n",
    "    def add_dx(x: int) -> float:\n",
    "        return x + dx\n",
    "\n",
    "    return sum_(f, (a + dx / 2), add_dx, b) * dx"
   ]
  },
  {
   "cell_type": "code",
   "execution_count": 66,
   "id": "b6cfa7cc-9395-4bf4-9b41-eaf141ca14e6",
   "metadata": {},
   "outputs": [
    {
     "data": {
      "text/plain": [
       "0.24998750000000042"
      ]
     },
     "execution_count": 66,
     "metadata": {},
     "output_type": "execute_result"
    }
   ],
   "source": [
    "integral(cube, 0, 1, 0.01)"
   ]
  },
  {
   "cell_type": "markdown",
   "id": "093fc7ac-b445-47aa-9ee9-da8feaf5d356",
   "metadata": {},
   "source": [
    "## Перепишем pi_sum используя lambda"
   ]
  },
  {
   "cell_type": "code",
   "execution_count": 67,
   "id": "1741e185-28ec-4405-99e6-15e7b749b189",
   "metadata": {},
   "outputs": [],
   "source": [
    "def pi_sum(a: int, b: int) -> int:\n",
    "    lambda x: 1 / (x * (x + 2))\n",
    "    lambda x: x + 4\n",
    "\n",
    "    return sum_(lambda x: 1 / (x * (x + 2)), a, lambda x: x + 4, b)"
   ]
  },
  {
   "cell_type": "code",
   "execution_count": 68,
   "id": "3eaeb279-98a4-4ca7-86c5-476b05bdfd70",
   "metadata": {},
   "outputs": [
    {
     "data": {
      "text/plain": [
       "3.139592655589783"
      ]
     },
     "execution_count": 68,
     "metadata": {},
     "output_type": "execute_result"
    }
   ],
   "source": [
    "8 * pi_sum(1, 1000)"
   ]
  },
  {
   "cell_type": "markdown",
   "id": "d6b1542a-802d-4dff-9578-ef524e39f438",
   "metadata": {},
   "source": [
    "## Перепишем integral используя lambda"
   ]
  },
  {
   "cell_type": "code",
   "execution_count": 69,
   "id": "37fe309e-3f02-4a14-ba69-b3c4c3e37130",
   "metadata": {},
   "outputs": [],
   "source": [
    "from typing import Callable\n",
    "\n",
    "def integral(f: Callable, a: int, b: int, dx: float) -> float:\n",
    "    return sum_(f, (a + dx / 2), lambda x: x + dx, b) * dx"
   ]
  },
  {
   "cell_type": "markdown",
   "id": "92bfce54-6d31-4580-be6c-c2dad427581a",
   "metadata": {},
   "source": [
    "## Определение lambda"
   ]
  },
  {
   "cell_type": "markdown",
   "id": "726d3a6c-2c8c-4b9f-b9a8-ac5efdd34948",
   "metadata": {},
   "source": [
    "```python\n",
    "lambda <формальные параметры>: <тело>\n",
    "```"
   ]
  },
  {
   "cell_type": "code",
   "execution_count": 74,
   "id": "7248db9c-311c-446c-a2de-9888a7c2b226",
   "metadata": {},
   "outputs": [],
   "source": [
    "def plus4(x: int) -> int:\n",
    "    return x + 4"
   ]
  },
  {
   "cell_type": "code",
   "execution_count": 75,
   "id": "3235a9e6-ca63-4f89-b313-bea88975baa4",
   "metadata": {},
   "outputs": [
    {
     "data": {
      "text/plain": [
       "6"
      ]
     },
     "execution_count": 75,
     "metadata": {},
     "output_type": "execute_result"
    }
   ],
   "source": [
    "plus4(2)"
   ]
  },
  {
   "cell_type": "code",
   "execution_count": 78,
   "id": "a14d2cd3-0e39-4a27-b850-41d3f47b5d1c",
   "metadata": {},
   "outputs": [],
   "source": [
    "plus4 = lambda x: x + 4"
   ]
  },
  {
   "cell_type": "code",
   "execution_count": 79,
   "id": "88b62a33-c53d-4d6e-b529-7535f22af270",
   "metadata": {},
   "outputs": [
    {
     "data": {
      "text/plain": [
       "6"
      ]
     },
     "execution_count": 79,
     "metadata": {},
     "output_type": "execute_result"
    }
   ],
   "source": [
    "plus4(2)"
   ]
  },
  {
   "cell_type": "markdown",
   "id": "c1ce23e4-c482-4243-a101-2017d66e33a4",
   "metadata": {},
   "source": [
    "## lambda как оператор комбинации"
   ]
  },
  {
   "cell_type": "code",
   "execution_count": 82,
   "id": "1d0549cd-cebe-46f3-9e6b-141919528b2c",
   "metadata": {},
   "outputs": [
    {
     "data": {
      "text/plain": [
       "12"
      ]
     },
     "execution_count": 82,
     "metadata": {},
     "output_type": "execute_result"
    }
   ],
   "source": [
    "def square(x: int) -> int:\n",
    "    return x * x\n",
    "\n",
    "(lambda x, y, z: x + y + square(z))(1, 2, 3)"
   ]
  },
  {
   "cell_type": "code",
   "execution_count": 83,
   "id": "c8c1f489-a13d-473a-bc2d-93cc2abe3d64",
   "metadata": {},
   "outputs": [
    {
     "data": {
      "text/plain": [
       "12"
      ]
     },
     "execution_count": 83,
     "metadata": {},
     "output_type": "execute_result"
    }
   ],
   "source": [
    "(lambda x, y, z: x + y + (lambda a: a * a)(z))(1, 2, 3)"
   ]
  },
  {
   "cell_type": "code",
   "execution_count": 84,
   "id": "aeabac1b-bd69-4c0c-b638-65ded50c16f2",
   "metadata": {},
   "outputs": [
    {
     "data": {
      "text/plain": [
       "12"
      ]
     },
     "execution_count": 84,
     "metadata": {},
     "output_type": "execute_result"
    }
   ],
   "source": [
    "square = lambda a: a * a\n",
    "(lambda x, y, z: x + y + square(z))(1, 2, 3)"
   ]
  },
  {
   "cell_type": "code",
   "execution_count": 85,
   "id": "4e2067e0-8d37-4730-b5b6-336ba7917cc6",
   "metadata": {},
   "outputs": [],
   "source": [
    "def f(x, y):\n",
    "    def f_helper(a, b):\n",
    "        return x * square(a) + y * b + a * b\n",
    "\n",
    "    return f_helper(1 + x * y, 1 - y)"
   ]
  },
  {
   "cell_type": "code",
   "execution_count": 86,
   "id": "59badf2e-6406-4814-bf45-e4a7246fe190",
   "metadata": {},
   "outputs": [
    {
     "data": {
      "text/plain": [
       "4"
      ]
     },
     "execution_count": 86,
     "metadata": {},
     "output_type": "execute_result"
    }
   ],
   "source": [
    "f(1 ,2)"
   ]
  },
  {
   "cell_type": "code",
   "execution_count": 87,
   "id": "7ff6418c-cc22-411b-a878-04734a99105c",
   "metadata": {},
   "outputs": [],
   "source": [
    "def f(x, y):\n",
    "    return (lambda a, b: x * square(a) + y * b + a * b)(1 + x * y, 1 - y)"
   ]
  },
  {
   "cell_type": "code",
   "execution_count": 90,
   "id": "99eac749-fedd-4186-b71c-c8aedd63d613",
   "metadata": {},
   "outputs": [
    {
     "data": {
      "text/plain": [
       "4"
      ]
     },
     "execution_count": 90,
     "metadata": {},
     "output_type": "execute_result"
    }
   ],
   "source": [
    "f(1, 2)"
   ]
  },
  {
   "cell_type": "code",
   "execution_count": 92,
   "id": "bccb623b-fcea-46c9-af5d-9dc6105b2331",
   "metadata": {},
   "outputs": [],
   "source": [
    "def f(x, y):\n",
    "    a = 1 + x * y\n",
    "    b = 1 - y\n",
    "    return x * square(a) + y * b + a * b"
   ]
  },
  {
   "cell_type": "code",
   "execution_count": 93,
   "id": "03d9f94e-28f1-4a14-b1a3-ff3f243909eb",
   "metadata": {},
   "outputs": [
    {
     "data": {
      "text/plain": [
       "4"
      ]
     },
     "execution_count": 93,
     "metadata": {},
     "output_type": "execute_result"
    }
   ],
   "source": [
    "f(1, 2)"
   ]
  },
  {
   "cell_type": "code",
   "execution_count": null,
   "id": "f8c58bfe-fa78-4a90-bc3a-4a7f6e564ae5",
   "metadata": {},
   "outputs": [],
   "source": []
  }
 ],
 "metadata": {
  "kernelspec": {
   "display_name": "kernel_venv",
   "language": "python",
   "name": "kernel_venv"
  },
  "language_info": {
   "codemirror_mode": {
    "name": "ipython",
    "version": 3
   },
   "file_extension": ".py",
   "mimetype": "text/x-python",
   "name": "python",
   "nbconvert_exporter": "python",
   "pygments_lexer": "ipython3",
   "version": "3.12.4"
  }
 },
 "nbformat": 4,
 "nbformat_minor": 5
}
